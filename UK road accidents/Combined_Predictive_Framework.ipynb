{
 "cells": [
  {
   "cell_type": "markdown",
   "metadata": {},
   "source": [
    "# Introduction"
   ]
  },
  {
   "cell_type": "markdown",
   "metadata": {},
   "source": [
    "This notebook aims to predict the severity level for the UK car accidents dataset. The notebook is divided into 7 sections. We will first gain some basic understanding about the dataset. Then, we will transform the existing features or derive additional features that will help in prediction. After we have generated all features, it is essential to select the appropriate features and have suitable training set data. With our data ready, we will then move on to train our model with the appropriate model selected, optimal number of features and hyperparameter values. At last, we will be able to build a high performing final model."
   ]
  },
  {
   "cell_type": "markdown",
   "metadata": {},
   "source": [
    "<div class=\"alert alert-block alert-info\">\n",
    "<h3> Content </h3>\n",
    "<br>\n",
    "&nbsp;&nbsp; 1. Data Overview\n",
    "<br>\n",
    "&nbsp;&nbsp; 2. Feature Engineering\n",
    "<br>\n",
    "&nbsp;&nbsp;&nbsp;&nbsp;&nbsp;&nbsp; 2.1 Transforming Geographical Data\n",
    "<br>\n",
    "&nbsp;&nbsp;&nbsp;&nbsp;&nbsp;&nbsp; 2.2 Adding Additional Time Features\n",
    "<br>\n",
    "&nbsp;&nbsp;&nbsp;&nbsp;&nbsp;&nbsp; 2.3 Transform to Numeric Categorical Values\n",
    "<br>\n",
    "&nbsp;&nbsp;&nbsp;&nbsp;&nbsp;&nbsp; 2.4 Adjusting the Scale for Speed Limit\n",
    "<br>\n",
    "&nbsp;&nbsp; 3. Feature Selection\n",
    "<br>\n",
    "&nbsp;&nbsp; 4. Sampling the Dataset\n",
    "<br>\n",
    "&nbsp;&nbsp; 5. One Hot Encoding\n",
    "<br>\n",
    "&nbsp;&nbsp; 6. Prediction Model Training\n",
    "<br>\n",
    "&nbsp;&nbsp;&nbsp;&nbsp;&nbsp;&nbsp; 6.1 Model Selection\n",
    "<br>\n",
    "&nbsp;&nbsp;&nbsp;&nbsp;&nbsp;&nbsp; 6.2 Dimensionality Reduction - PCA\n",
    "<br>\n",
    "&nbsp;&nbsp;&nbsp;&nbsp;&nbsp;&nbsp; 6.3 Recursive Feature Elimination\n",
    "<br>\n",
    "&nbsp;&nbsp;&nbsp;&nbsp;&nbsp;&nbsp; 6.4 Hyperparameters Tuning\n",
    "<br>\n",
    "&nbsp;&nbsp; 7. Final Model\n",
    "<br>\n",
    "</div>"
   ]
  },
  {
   "cell_type": "markdown",
   "metadata": {},
   "source": [
    "# Import Packages"
   ]
  },
  {
   "cell_type": "code",
   "execution_count": 1,
   "metadata": {},
   "outputs": [],
   "source": [
    "import pandas as pd\n",
    "import numpy as np\n",
    "import matplotlib.pyplot as plt\n",
    "%matplotlib inline\n",
    "import random\n",
    "from matplotlib import colors as mcolors\n",
    "from sklearn.cluster import KMeans\n",
    "import seaborn as sns\n",
    "sns.set(style=\"white\")\n",
    "from sklearn.feature_selection import SelectKBest\n",
    "from sklearn.feature_selection import chi2\n",
    "import seaborn as sns\n",
    "sns.set(style=\"white\")\n",
    "from scipy.stats import norm\n",
    "from scipy import stats\n",
    "import math\n",
    "from sklearn.preprocessing import OneHotEncoder\n",
    "from sklearn.decomposition import PCA\n",
    "\n",
    "# packages for prediction\n",
    "from sklearn.linear_model import LogisticRegression\n",
    "from sklearn.svm import SVC\n",
    "from sklearn.feature_selection import RFE\n",
    "from sklearn.model_selection import train_test_split\n",
    "from sklearn.ensemble import RandomForestClassifier\n",
    "from sklearn.metrics import confusion_matrix\n",
    "from sklearn.metrics import f1_score\n",
    "from sklearn.model_selection import RandomizedSearchCV\n",
    "from sklearn.tree import DecisionTreeClassifier\n",
    "from sklearn.neural_network import MLPClassifier\n",
    "from sklearn.metrics import confusion_matrix"
   ]
  },
  {
   "cell_type": "markdown",
   "metadata": {},
   "source": [
    "# 1. Dataset Overview"
   ]
  },
  {
   "cell_type": "code",
   "execution_count": 2,
   "metadata": {},
   "outputs": [
    {
     "name": "stderr",
     "output_type": "stream",
     "text": [
      "/anaconda3/lib/python3.5/site-packages/IPython/core/interactiveshell.py:2785: DtypeWarning: Columns (31) have mixed types. Specify dtype option on import or set low_memory=False.\n",
      "  interactivity=interactivity, compiler=compiler, result=result)\n"
     ]
    }
   ],
   "source": [
    "# reading files\n",
    "solution = pd.read_csv(\"solutions_sample.csv\")\n",
    "test = pd.read_csv(\"test.csv\")\n",
    "train = pd.read_csv(\"train.csv\")\n",
    "ukTraffic = pd.read_csv(\"ukTrafficAADF.csv\")"
   ]
  },
  {
   "cell_type": "code",
   "execution_count": 3,
   "metadata": {},
   "outputs": [
    {
     "name": "stdout",
     "output_type": "stream",
     "text": [
      "Length of the training dataset is: 1196390\n",
      "Length of the testing dataset is: 513643\n"
     ]
    }
   ],
   "source": [
    "print (\"Length of the training dataset is:\", len(train))\n",
    "print (\"Length of the testing dataset is:\", len(test))"
   ]
  },
  {
   "cell_type": "code",
   "execution_count": 4,
   "metadata": {},
   "outputs": [
    {
     "name": "stdout",
     "output_type": "stream",
     "text": [
      "<class 'pandas.core.frame.DataFrame'>\n",
      "RangeIndex: 1196390 entries, 0 to 1196389\n",
      "Data columns (total 33 columns):\n",
      "Accident_Index                                 1196390 non-null object\n",
      "Location_Easting_OSGR                          1196175 non-null float64\n",
      "Location_Northing_OSGR                         1196175 non-null float64\n",
      "Longitude                                      1196175 non-null float64\n",
      "Latitude                                       1196175 non-null float64\n",
      "Police_Force                                   1196390 non-null int64\n",
      "Accident_Severity                              1196390 non-null int64\n",
      "Number_of_Vehicles                             1196390 non-null int64\n",
      "Number_of_Casualties                           1196390 non-null int64\n",
      "Date                                           1196390 non-null object\n",
      "Day_of_Week                                    1196390 non-null int64\n",
      "Time                                           1196248 non-null object\n",
      "Local_Authority_(District)                     1196390 non-null int64\n",
      "Local_Authority_(Highway)                      1196390 non-null object\n",
      "1st_Road_Class                                 1196390 non-null int64\n",
      "1st_Road_Number                                1196390 non-null int64\n",
      "Road_Type                                      1196390 non-null object\n",
      "Speed_limit                                    1196390 non-null int64\n",
      "Junction_Detail                                0 non-null float64\n",
      "Junction_Control                               698846 non-null object\n",
      "2nd_Road_Class                                 1196390 non-null int64\n",
      "2nd_Road_Number                                1196390 non-null int64\n",
      "Pedestrian_Crossing-Human_Control              1196360 non-null object\n",
      "Pedestrian_Crossing-Physical_Facilities        1196313 non-null object\n",
      "Light_Conditions                               1196390 non-null object\n",
      "Weather_Conditions                             1196347 non-null object\n",
      "Road_Surface_Conditions                        1194972 non-null object\n",
      "Special_Conditions_at_Site                     1196364 non-null object\n",
      "Carriageway_Hazards                            1196341 non-null object\n",
      "Urban_or_Rural_Area                            1196390 non-null int64\n",
      "Did_Police_Officer_Attend_Scene_of_Accident    1191406 non-null object\n",
      "LSOA_of_Accident_Location                      1096570 non-null object\n",
      "Year                                           1196390 non-null int64\n",
      "dtypes: float64(5), int64(13), object(15)\n",
      "memory usage: 301.2+ MB\n"
     ]
    }
   ],
   "source": [
    "# getting to know the variables in the training dataset\n",
    "train.info()"
   ]
  },
  {
   "cell_type": "markdown",
   "metadata": {},
   "source": [
    "<div class=\"alert alert-block alert-info\">\n",
    "From the information about the dataset, we can see there are quite a number of variables that are non numeric and a few variables contain large number of null values. This suggests we are dealing with most categorical variables and necessary transformations should be considered later. Secondly, we will look at the distribution of the targe variables for both the training datset and the testing dataset.\n",
    "</div>"
   ]
  },
  {
   "cell_type": "code",
   "execution_count": 5,
   "metadata": {},
   "outputs": [],
   "source": [
    "df_group_train = train.groupby(\"Accident_Severity\").count()"
   ]
  },
  {
   "cell_type": "code",
   "execution_count": 6,
   "metadata": {},
   "outputs": [
    {
     "data": {
      "text/plain": [
       "Text(0.5,1,'Distribution of test cases for training data')"
      ]
     },
     "execution_count": 6,
     "metadata": {},
     "output_type": "execute_result"
    },
    {
     "data": {
      "image/png": "[encoded data removed]",
      "text/plain": [
       "<matplotlib.figure.Figure at 0x1a1d3f8d68>"
      ]
     },
     "metadata": {},
     "output_type": "display_data"
    }
   ],
   "source": [
    "plt.bar(df_group_train.index, list(df_group_train[\"Accident_Index\"]), color = (\"red\",\"yellow\",\"blue\"))\n",
    "plt.title(\"Distribution of test cases for training data\")"
   ]
  },
  {
   "cell_type": "code",
   "execution_count": 7,
   "metadata": {},
   "outputs": [
    {
     "data": {
      "text/plain": [
       "array(['Id', 'Accident_Severity'], dtype=object)"
      ]
     },
     "execution_count": 7,
     "metadata": {},
     "output_type": "execute_result"
    }
   ],
   "source": [
    "solution.columns.values"
   ]
  },
  {
   "cell_type": "code",
   "execution_count": 8,
   "metadata": {},
   "outputs": [
    {
     "data": {
      "text/plain": [
       "array(['Id', 'Accident_Index', 'Location_Easting_OSGR',\n",
       "       'Location_Northing_OSGR', 'Longitude', 'Latitude', 'Police_Force',\n",
       "       'Number_of_Vehicles', 'Number_of_Casualties', 'Date',\n",
       "       'Day_of_Week', 'Time', 'Local_Authority_(District)',\n",
       "       'Local_Authority_(Highway)', '1st_Road_Class', '1st_Road_Number',\n",
       "       'Road_Type', 'Speed_limit', 'Junction_Detail', 'Junction_Control',\n",
       "       '2nd_Road_Class', '2nd_Road_Number',\n",
       "       'Pedestrian_Crossing-Human_Control',\n",
       "       'Pedestrian_Crossing-Physical_Facilities', 'Light_Conditions',\n",
       "       'Weather_Conditions', 'Road_Surface_Conditions',\n",
       "       'Special_Conditions_at_Site', 'Carriageway_Hazards',\n",
       "       'Urban_or_Rural_Area',\n",
       "       'Did_Police_Officer_Attend_Scene_of_Accident',\n",
       "       'LSOA_of_Accident_Location', 'Year'], dtype=object)"
      ]
     },
     "execution_count": 8,
     "metadata": {},
     "output_type": "execute_result"
    }
   ],
   "source": [
    "test.columns.values"
   ]
  },
  {
   "cell_type": "code",
   "execution_count": 9,
   "metadata": {},
   "outputs": [],
   "source": [
    "# join the test X variables and targe variable\n",
    "test_with_solution = test.merge(solution, left_on='Id', right_on='Id', how='left')"
   ]
  },
  {
   "cell_type": "code",
   "execution_count": 10,
   "metadata": {},
   "outputs": [
    {
     "data": {
      "text/html": [
       "<div>\n",
       "<style scoped>\n",
       "    .dataframe tbody tr th:only-of-type {\n",
       "        vertical-align: middle;\n",
       "    }\n",
       "\n",
       "    .dataframe tbody tr th {\n",
       "        vertical-align: top;\n",
       "    }\n",
       "\n",
       "    .dataframe thead th {\n",
       "        text-align: right;\n",
       "    }\n",
       "</style>\n",
       "<table border=\"1\" class=\"dataframe\">\n",
       "  <thead>\n",
       "    <tr style=\"text-align: right;\">\n",
       "      <th></th>\n",
       "      <th>Id</th>\n",
       "      <th>Accident_Index</th>\n",
       "      <th>Location_Easting_OSGR</th>\n",
       "      <th>Location_Northing_OSGR</th>\n",
       "      <th>Longitude</th>\n",
       "      <th>Latitude</th>\n",
       "      <th>Police_Force</th>\n",
       "      <th>Number_of_Vehicles</th>\n",
       "      <th>Number_of_Casualties</th>\n",
       "      <th>Date</th>\n",
       "      <th>...</th>\n",
       "      <th>Light_Conditions</th>\n",
       "      <th>Weather_Conditions</th>\n",
       "      <th>Road_Surface_Conditions</th>\n",
       "      <th>Special_Conditions_at_Site</th>\n",
       "      <th>Carriageway_Hazards</th>\n",
       "      <th>Urban_or_Rural_Area</th>\n",
       "      <th>Did_Police_Officer_Attend_Scene_of_Accident</th>\n",
       "      <th>LSOA_of_Accident_Location</th>\n",
       "      <th>Year</th>\n",
       "      <th>Accident_Severity</th>\n",
       "    </tr>\n",
       "  </thead>\n",
       "  <tbody>\n",
       "    <tr>\n",
       "      <th>0</th>\n",
       "      <td>0</td>\n",
       "      <td>200501BS00001</td>\n",
       "      <td>525680.0</td>\n",
       "      <td>178240.0</td>\n",
       "      <td>-0.191170</td>\n",
       "      <td>51.489096</td>\n",
       "      <td>1</td>\n",
       "      <td>1</td>\n",
       "      <td>1</td>\n",
       "      <td>04/01/2005</td>\n",
       "      <td>...</td>\n",
       "      <td>Daylight: Street light present</td>\n",
       "      <td>Raining without high winds</td>\n",
       "      <td>Wet/Damp</td>\n",
       "      <td>None</td>\n",
       "      <td>None</td>\n",
       "      <td>1</td>\n",
       "      <td>Yes</td>\n",
       "      <td>E01002849</td>\n",
       "      <td>2005</td>\n",
       "      <td>2</td>\n",
       "    </tr>\n",
       "    <tr>\n",
       "      <th>1</th>\n",
       "      <td>1</td>\n",
       "      <td>200501BS00002</td>\n",
       "      <td>524170.0</td>\n",
       "      <td>181650.0</td>\n",
       "      <td>-0.211708</td>\n",
       "      <td>51.520075</td>\n",
       "      <td>1</td>\n",
       "      <td>1</td>\n",
       "      <td>1</td>\n",
       "      <td>05/01/2005</td>\n",
       "      <td>...</td>\n",
       "      <td>Darkness: Street lights present and lit</td>\n",
       "      <td>Fine without high winds</td>\n",
       "      <td>Dry</td>\n",
       "      <td>None</td>\n",
       "      <td>None</td>\n",
       "      <td>1</td>\n",
       "      <td>Yes</td>\n",
       "      <td>E01002909</td>\n",
       "      <td>2005</td>\n",
       "      <td>2</td>\n",
       "    </tr>\n",
       "    <tr>\n",
       "      <th>2</th>\n",
       "      <td>2</td>\n",
       "      <td>200501BS00007</td>\n",
       "      <td>524220.0</td>\n",
       "      <td>180830.0</td>\n",
       "      <td>-0.211277</td>\n",
       "      <td>51.512695</td>\n",
       "      <td>1</td>\n",
       "      <td>2</td>\n",
       "      <td>1</td>\n",
       "      <td>13/01/2005</td>\n",
       "      <td>...</td>\n",
       "      <td>Darkness: Street lights present and lit</td>\n",
       "      <td>Fine without high winds</td>\n",
       "      <td>Dry</td>\n",
       "      <td>None</td>\n",
       "      <td>None</td>\n",
       "      <td>1</td>\n",
       "      <td>Yes</td>\n",
       "      <td>E01002875</td>\n",
       "      <td>2005</td>\n",
       "      <td>3</td>\n",
       "    </tr>\n",
       "    <tr>\n",
       "      <th>3</th>\n",
       "      <td>3</td>\n",
       "      <td>200501BS00011</td>\n",
       "      <td>524550.0</td>\n",
       "      <td>180810.0</td>\n",
       "      <td>-0.206531</td>\n",
       "      <td>51.512443</td>\n",
       "      <td>1</td>\n",
       "      <td>2</td>\n",
       "      <td>5</td>\n",
       "      <td>15/01/2005</td>\n",
       "      <td>...</td>\n",
       "      <td>Daylight: Street light present</td>\n",
       "      <td>Fine without high winds</td>\n",
       "      <td>Dry</td>\n",
       "      <td>None</td>\n",
       "      <td>None</td>\n",
       "      <td>1</td>\n",
       "      <td>Yes</td>\n",
       "      <td>E01002875</td>\n",
       "      <td>2005</td>\n",
       "      <td>3</td>\n",
       "    </tr>\n",
       "    <tr>\n",
       "      <th>4</th>\n",
       "      <td>4</td>\n",
       "      <td>200501BS00012</td>\n",
       "      <td>526240.0</td>\n",
       "      <td>178900.0</td>\n",
       "      <td>-0.182872</td>\n",
       "      <td>51.494902</td>\n",
       "      <td>1</td>\n",
       "      <td>1</td>\n",
       "      <td>1</td>\n",
       "      <td>16/01/2005</td>\n",
       "      <td>...</td>\n",
       "      <td>Darkness: Street lights present and lit</td>\n",
       "      <td>Fine without high winds</td>\n",
       "      <td>Dry</td>\n",
       "      <td>None</td>\n",
       "      <td>None</td>\n",
       "      <td>1</td>\n",
       "      <td>Yes</td>\n",
       "      <td>E01002835</td>\n",
       "      <td>2005</td>\n",
       "      <td>3</td>\n",
       "    </tr>\n",
       "  </tbody>\n",
       "</table>\n",
       "<p>5 rows × 34 columns</p>\n",
       "</div>"
      ],
      "text/plain": [
       "   Id Accident_Index  Location_Easting_OSGR  Location_Northing_OSGR  \\\n",
       "0   0  200501BS00001               525680.0                178240.0   \n",
       "1   1  200501BS00002               524170.0                181650.0   \n",
       "2   2  200501BS00007               524220.0                180830.0   \n",
       "3   3  200501BS00011               524550.0                180810.0   \n",
       "4   4  200501BS00012               526240.0                178900.0   \n",
       "\n",
       "   Longitude   Latitude  Police_Force  Number_of_Vehicles  \\\n",
       "0  -0.191170  51.489096             1                   1   \n",
       "1  -0.211708  51.520075             1                   1   \n",
       "2  -0.211277  51.512695             1                   2   \n",
       "3  -0.206531  51.512443             1                   2   \n",
       "4  -0.182872  51.494902             1                   1   \n",
       "\n",
       "   Number_of_Casualties        Date        ...         \\\n",
       "0                     1  04/01/2005        ...          \n",
       "1                     1  05/01/2005        ...          \n",
       "2                     1  13/01/2005        ...          \n",
       "3                     5  15/01/2005        ...          \n",
       "4                     1  16/01/2005        ...          \n",
       "\n",
       "                          Light_Conditions          Weather_Conditions  \\\n",
       "0           Daylight: Street light present  Raining without high winds   \n",
       "1  Darkness: Street lights present and lit     Fine without high winds   \n",
       "2  Darkness: Street lights present and lit     Fine without high winds   \n",
       "3           Daylight: Street light present     Fine without high winds   \n",
       "4  Darkness: Street lights present and lit     Fine without high winds   \n",
       "\n",
       "   Road_Surface_Conditions Special_Conditions_at_Site  Carriageway_Hazards  \\\n",
       "0                 Wet/Damp                       None                 None   \n",
       "1                      Dry                       None                 None   \n",
       "2                      Dry                       None                 None   \n",
       "3                      Dry                       None                 None   \n",
       "4                      Dry                       None                 None   \n",
       "\n",
       "   Urban_or_Rural_Area Did_Police_Officer_Attend_Scene_of_Accident  \\\n",
       "0                    1                                         Yes   \n",
       "1                    1                                         Yes   \n",
       "2                    1                                         Yes   \n",
       "3                    1                                         Yes   \n",
       "4                    1                                         Yes   \n",
       "\n",
       "   LSOA_of_Accident_Location  Year Accident_Severity  \n",
       "0                  E01002849  2005                 2  \n",
       "1                  E01002909  2005                 2  \n",
       "2                  E01002875  2005                 3  \n",
       "3                  E01002875  2005                 3  \n",
       "4                  E01002835  2005                 3  \n",
       "\n",
       "[5 rows x 34 columns]"
      ]
     },
     "execution_count": 10,
     "metadata": {},
     "output_type": "execute_result"
    }
   ],
   "source": [
    "test_with_solution.head()"
   ]
  },
  {
   "cell_type": "code",
   "execution_count": 11,
   "metadata": {},
   "outputs": [
    {
     "data": {
      "text/plain": [
       "Text(0.5,1,'Distribution of test cases for testing data')"
      ]
     },
     "execution_count": 11,
     "metadata": {},
     "output_type": "execute_result"
    },
    {
     "data": {
      "image/png": "[encoded data removed]",
      "text/plain": [
       "<matplotlib.figure.Figure at 0x10364a860>"
      ]
     },
     "metadata": {},
     "output_type": "display_data"
    }
   ],
   "source": [
    "df_group_test = test_with_solution.groupby(\"Accident_Severity\").count()\n",
    "plt.bar(list(df_group_test.index), df_group_test[\"Accident_Index\"], color = (\"red\",\"yellow\",\"blue\"))\n",
    "plt.title(\"Distribution of test cases for testing data\")"
   ]
  },
  {
   "cell_type": "markdown",
   "metadata": {},
   "source": [
    "<div class=\"alert alert-block alert-info\">\n",
    "From the histogram, we can see the distribution is rather uneven which means we have a rather unbalanced dataset. Either undersample or oversample needs to be carried out to transform the training datasets.\n",
    "</div>"
   ]
  },
  {
   "cell_type": "markdown",
   "metadata": {},
   "source": [
    "# 2. Feature Engineering"
   ]
  },
  {
   "cell_type": "code",
   "execution_count": 12,
   "metadata": {},
   "outputs": [],
   "source": [
    "# create a copy from the original data input\n",
    "df_master = train\n",
    "df_test = test_with_solution"
   ]
  },
  {
   "cell_type": "markdown",
   "metadata": {},
   "source": [
    "## 2.1 Transforming Geographical Data"
   ]
  },
  {
   "cell_type": "markdown",
   "metadata": {},
   "source": [
    "<div class=\"alert alert-block alert-info\">\n",
    "The geographical data which are latitude and longitude columns in the dataset are in a much larger scale compared to other variables. Thus, it is important to scale the inputs so as to eliminate the effects due to the scale difference. The distributions for before and after transformation are plotted as shown in the graphs below."
   ]
  },
  {
   "cell_type": "markdown",
   "metadata": {},
   "source": [
    "**Before Transformation:**"
   ]
  },
  {
   "cell_type": "code",
   "execution_count": 13,
   "metadata": {},
   "outputs": [
    {
     "data": {
      "image/png": "[encoded data removed]",
      "text/plain": [
       "<matplotlib.figure.Figure at 0x1a164b2780>"
      ]
     },
     "metadata": {},
     "output_type": "display_data"
    },
    {
     "data": {
      "image/png": "[encoded data removed]",
      "text/plain": [
       "<matplotlib.figure.Figure at 0x1a164b2ef0>"
      ]
     },
     "metadata": {},
     "output_type": "display_data"
    }
   ],
   "source": [
    "# visualise the previous distribution for latitude\n",
    "df_pre = df_master[np.isfinite(train['Latitude'])]\n",
    "df_pre = df_master[np.isfinite(train['Longitude'])]\n",
    "\n",
    "sns.distplot(df_pre['Latitude'], fit=norm);\n",
    "fig = plt.figure()\n",
    "res = stats.probplot(df_pre['Latitude'], plot=plt)\n",
    "plt.show()"
   ]
  },
  {
   "cell_type": "code",
   "execution_count": 14,
   "metadata": {},
   "outputs": [
    {
     "data": {
      "image/png": "[encoded data removed]",
      "text/plain": [
       "<matplotlib.figure.Figure at 0x103644400>"
      ]
     },
     "metadata": {},
     "output_type": "display_data"
    },
    {
     "data": {
      "image/png": "[encoded data removed]",
      "text/plain": [
       "<matplotlib.figure.Figure at 0x113c50d68>"
      ]
     },
     "metadata": {},
     "output_type": "display_data"
    }
   ],
   "source": [
    "# visualise the previous distribution for longitude\n",
    "sns.distplot(df_pre['Longitude'], fit=norm);\n",
    "fig = plt.figure()\n",
    "res = stats.probplot(df_pre['Longitude'], plot=plt)\n",
    "plt.show()"
   ]
  },
  {
   "cell_type": "code",
   "execution_count": 15,
   "metadata": {},
   "outputs": [],
   "source": [
    "# drop the na rows in the dataframe\n",
    "df_master = df_master[np.isfinite(df_master['Latitude'])]\n",
    "df_master = df_master[np.isfinite(df_master['Longitude'])]\n",
    "df_test = df_test[np.isfinite(df_test['Latitude'])]\n",
    "df_test = df_test[np.isfinite(df_test['Longitude'])]\n",
    "\n",
    "# Convert the latitude and longitude coordinates to area squares\n",
    "latitude_min = min(train['Latitude'])\n",
    "latitude_max = max(train['Latitude'])\n",
    "longitude_min = min(train['Longitude'])\n",
    "longitude_max = max(train['Longitude'])\n",
    "\n",
    "# Determine the required step for a given number of areas\n",
    "latitude_step = (latitude_max - latitude_min) / 1000\n",
    "longitude_step = (longitude_max - longitude_min) / 1000\n",
    "\n",
    "# Determine the latitude area\n",
    "def calc_lat_area(current_lat):\n",
    "    if math.isnan(current_lat):\n",
    "        return -1\n",
    "    \n",
    "    return int(abs((current_lat - latitude_min)) / latitude_step)\n",
    "\n",
    "# Determine the longitude area\n",
    "def calc_lon_area(current_lon):\n",
    "    if math.isnan(current_lon):\n",
    "        return -1\n",
    "    return int(abs((current_lon - longitude_min)) / longitude_step)\n",
    "\n",
    "# Create new columns with the latitude and longitude areas\n",
    "df_master[\"Latitude_Area\"] = list(map(calc_lat_area, df_master[\"Latitude\"]))\n",
    "df_master[\"Longitude_Area\"] = list(map(calc_lon_area, df_master[\"Longitude\"]))\n",
    "\n",
    "# standardise the feature\n",
    "df_master['Latitude_Area'] = np.log1p(df_master['Latitude_Area']) \n",
    "df_master['Longitude_Area'] = np.log1p(df_master['Longitude_Area'])\n",
    "\n",
    "df_test[\"Latitude_Area\"] = list(map(calc_lat_area, df_test[\"Latitude\"]))\n",
    "df_test[\"Longitude_Area\"] = list(map(calc_lon_area, df_test[\"Longitude\"]))\n",
    "\n",
    "# standardise the feature\n",
    "df_test['Latitude_Area'] = np.log1p(df_test['Latitude_Area']) \n",
    "df_test['Longitude_Area'] = np.log1p(df_test['Longitude_Area'])"
   ]
  },
  {
   "cell_type": "markdown",
   "metadata": {},
   "source": [
    "**After Transformation:**"
   ]
  },
  {
   "cell_type": "code",
   "execution_count": 16,
   "metadata": {},
   "outputs": [
    {
     "data": {
      "image/png": "[encoded data removed]",
      "text/plain": [
       "<matplotlib.figure.Figure at 0x1a16612358>"
      ]
     },
     "metadata": {},
     "output_type": "display_data"
    },
    {
     "data": {
      "image/png": "[encoded data removed]",
      "text/plain": [
       "<matplotlib.figure.Figure at 0x1a165c1f98>"
      ]
     },
     "metadata": {},
     "output_type": "display_data"
    }
   ],
   "source": [
    "# viusalise latitude distribution after transformation\n",
    "sns.distplot(df_master['Latitude_Area'], fit=norm);\n",
    "fig = plt.figure()\n",
    "res = stats.probplot(df_master['Latitude_Area'], plot=plt)\n",
    "plt.show()"
   ]
  },
  {
   "cell_type": "code",
   "execution_count": 17,
   "metadata": {},
   "outputs": [
    {
     "data": {
      "image/png": "[encoded data removed]",
      "text/plain": [
       "<matplotlib.figure.Figure at 0x1a180546a0>"
      ]
     },
     "metadata": {},
     "output_type": "display_data"
    },
    {
     "data": {
      "image/png": "[encoded data removed]",
      "text/plain": [
       "<matplotlib.figure.Figure at 0x1a19f557b8>"
      ]
     },
     "metadata": {},
     "output_type": "display_data"
    }
   ],
   "source": [
    "# viusalise longitude distribution after transformation\n",
    "sns.distplot(df_master['Longitude_Area'], fit=norm);\n",
    "fig = plt.figure()\n",
    "res = stats.probplot(df_master['Longitude_Area'], plot=plt)\n",
    "plt.show()"
   ]
  },
  {
   "cell_type": "markdown",
   "metadata": {},
   "source": [
    "<div class=\"alert alert-block alert-info\">\n",
    "From the plots, we can see the values now range in a much smaller values after transformation. This is especially true for latitude where it previously ranges from 50 to 60 has decreased to 1 to 8 after transformation. The values for geographical data after transformation is much more comparable with the rest of the attributes.\n",
    "</div>"
   ]
  },
  {
   "cell_type": "markdown",
   "metadata": {},
   "source": [
    "## 2.2 Adding Additional Time Features"
   ]
  },
  {
   "cell_type": "markdown",
   "metadata": {},
   "source": [
    "<div class=\"alert alert-block alert-info\">\n",
    "Let's first take a look at the distribution of the time information we have:\n",
    "</div>"
   ]
  },
  {
   "cell_type": "code",
   "execution_count": 18,
   "metadata": {},
   "outputs": [],
   "source": [
    "# extract date time information\n",
    "df_master ['Date'] = pd.to_datetime(df_master ['Date'], format= '%d/%m/%Y')\n",
    "df_master ['Month'] = df_master ['Date'].dt.month\n",
    "df_master ['Day_of_Month'] = df_master ['Date'].dt.day\n",
    "\n",
    "df_master ['Time'] = pd.to_datetime( df_master ['Time'], format = '%H:%M')\n",
    "df_master ['Hour'] = df_master [\"Time\"].dt.hour\n",
    "\n",
    "df_test ['Date'] = pd.to_datetime(df_test['Date'], format= '%d/%m/%Y')\n",
    "df_test ['Month'] = df_test['Date'].dt.month\n",
    "df_test ['Day_of_Month'] = df_test['Date'].dt.day\n",
    "\n",
    "df_test ['Time'] = pd.to_datetime(df_test['Time'], format = '%H:%M')\n",
    "df_test ['Hour'] = df_test[\"Time\"].dt.hour"
   ]
  },
  {
   "cell_type": "code",
   "execution_count": 19,
   "metadata": {},
   "outputs": [
    {
     "data": {
      "image/png": "[encoded data removed]",
      "text/plain": [
       "<matplotlib.figure.Figure at 0x1a19a43e48>"
      ]
     },
     "metadata": {},
     "output_type": "display_data"
    }
   ],
   "source": [
    "# plot the distribution across the week for different accident severity level\n",
    "plt.subplot(3,1,1)\n",
    "df_1 = df_master[df_master[\"Accident_Severity\"] == 1]\n",
    "df_week_1 = df_1.groupby(\"Day_of_Week\").count()\n",
    "plt.bar(list(df_week_1.index), df_week_1.iloc[:,1])\n",
    "plt.title(\"Distribution of Day of Week for accidents, Accident Severity 1\")\n",
    "\n",
    "plt.subplot(3,1,2)\n",
    "df_2 = df_master[df_master[\"Accident_Severity\"] == 2]\n",
    "df_week_2 = df_2.groupby(\"Day_of_Week\").count()\n",
    "plt.bar(list(df_week_2.index), df_week_2.iloc[:,1])\n",
    "plt.title(\"Distribution of Day of Week for accidents, Accident Severity 2\")\n",
    "\n",
    "plt.subplot(3,1,3)\n",
    "df_3 = df_master[df_master[\"Accident_Severity\"] == 3]\n",
    "df_week_3 = df_3.groupby(\"Day_of_Week\").count()\n",
    "plt.bar(list(df_week_3.index), df_week_3.iloc[:,1])\n",
    "plt.title(\"Distribution of Day of Week for accidents, Accident Severity 3\")\n",
    "\n",
    "plt.tight_layout()"
   ]
  },
  {
   "cell_type": "markdown",
   "metadata": {},
   "source": [
    "<div class=\"alert alert-block alert-info\">\n",
    "Firstly, we need to note that the total cases for 3 accident severity levels differ a lot. Thus, it is not meaninful to compare the absolute number. Instead, we should **compare the percentage of each group within each accident severity level**.\n",
    "<br>\n",
    "Based on the plot for **distribution of day of week across different accident severities**, we can see the percentage of accidents is generally higher during the weekdays for accident severity 2 and 3. While for accident severity 1, the accidents are more likely to happen during weekends. Thus, adding an attribute of \"is_weekend\" will be meaningful distinguish the accident severity type.\n",
    "</div>"
   ]
  },
  {
   "cell_type": "code",
   "execution_count": 20,
   "metadata": {},
   "outputs": [
    {
     "data": {
      "text/plain": [
       "Text(0.5,1,'Distribution of Hour for accidents')"
      ]
     },
     "execution_count": 20,
     "metadata": {},
     "output_type": "execute_result"
    },
    {
     "data": {
      "image/png": "[encoded data removed]",
      "text/plain": [
       "<matplotlib.figure.Figure at 0x1a18450f98>"
      ]
     },
     "metadata": {},
     "output_type": "display_data"
    }
   ],
   "source": [
    "# plot the distribution of number of accidents across the day\n",
    "df_time = df_master[\"Hour\"].value_counts().sort_index()\n",
    "plt.bar(list(df_time.index), list(df_time))\n",
    "\n",
    "# add in an average line of the number accidents happening in different hours\n",
    "hour_ave = np.average(list(df_time))\n",
    "y_list = [hour_ave]* 24\n",
    "plt.plot(list(df_time.index), y_list, c = 'red')\n",
    "plt.title(\"Distribution of Hour for accidents\")"
   ]
  },
  {
   "cell_type": "markdown",
   "metadata": {},
   "source": [
    "<div class=\"alert alert-block alert-info\">\n",
    "Looking at the overall pictures, there are higher number of accidents happening during day time especially the morning peak hours and afternoon peak hours. (The red line represents the average number of accidents happening across 24 hours) We would like to know is the pattern different across different severity level.\n",
    "</div>"
   ]
  },
  {
   "cell_type": "code",
   "execution_count": 21,
   "metadata": {},
   "outputs": [
    {
     "data": {
      "image/png": "[encoded data removed]",
      "text/plain": [
       "<matplotlib.figure.Figure at 0x1a19a66ef0>"
      ]
     },
     "metadata": {},
     "output_type": "display_data"
    }
   ],
   "source": [
    "# plot the distribution of number of accidents across the day for different accident severity level\n",
    "plt.subplot(3,1,1)\n",
    "df_1 = df_master[df_master[\"Accident_Severity\"] == 1]\n",
    "df_hour_1 = df_1.groupby(\"Hour\").count()\n",
    "plt.bar(list(df_hour_1.index), df_hour_1.iloc[:,1])\n",
    "plt.title(\"Distribution of Hour for accidents, Accident Severity 1\")\n",
    "\n",
    "plt.subplot(3,1,2)\n",
    "df_2 = df_master[df_master[\"Accident_Severity\"] == 2]\n",
    "df_hour_2 = df_2.groupby(\"Hour\").count()\n",
    "plt.bar(list(df_hour_2.index), df_hour_2.iloc[:,1])\n",
    "plt.title(\"Distribution of Hour for accidents, Accident Severity 2\")\n",
    "\n",
    "plt.subplot(3,1,3)\n",
    "df_3 = df_master[df_master[\"Accident_Severity\"] == 3]\n",
    "df_hour_3 = df_3.groupby(\"Hour\").count()\n",
    "plt.bar(list(df_hour_3.index), df_hour_3.iloc[:,1])\n",
    "plt.title(\"Distribution of Hour for accidents, Accident Severity 3\")\n",
    "\n",
    "plt.tight_layout()"
   ]
  },
  {
   "cell_type": "markdown",
   "metadata": {},
   "source": [
    "<div class=\"alert alert-block alert-info\">\n",
    "Again, we will be comparing the percentage of the accident in a group for a particular severity level here. From the plot, we can see the distribution for accident severity 1 is more even across different time. While for accident severity 2 and 3, higher percentage of accidents happened during daytime. The difference in distribution suggests the addition of **'is_midnight' and 'is_peak_hour'** variables will be meaningful for for the prediction later.\n",
    "</div>"
   ]
  },
  {
   "cell_type": "markdown",
   "metadata": {},
   "source": [
    "<div class=\"alert alert-block alert-info\">\n",
    "Currently, the time information is very much in its raw format (e.g. data, time). We will based on the raw values and derive other attributes such as \"is_peak_hour\", \"is_weekend\", \"is_midnight\". Based on the plot and also the definition from official website.\n",
    "<br>\n",
    "**midnight: 8pm - 3am\n",
    "<br>\n",
    "peakhour: 7am - 9am; 5pm - 7pm**\n",
    "</div>"
   ]
  },
  {
   "cell_type": "code",
   "execution_count": 22,
   "metadata": {},
   "outputs": [],
   "source": [
    "def is_weekend(val):\n",
    "    if math.isnan(val):\n",
    "        return -1\n",
    "    \n",
    "    val = int(val)\n",
    "    if val == 7 or val ==1:\n",
    "        return 1\n",
    "    else:\n",
    "        return 0\n",
    "\n",
    "# reference: https://www.londonpass.com/london-transport/london-underground-tips.html\n",
    "# morning peak: 7:30 - 9:30\n",
    "# afternoon peak: 17:00 - 19:00\n",
    "def is_peak(val):\n",
    "    if math.isnan(val):\n",
    "        return -1\n",
    "    \n",
    "    val = int(val)\n",
    "    if val in [7,8,9,17,18,19]:\n",
    "        return 1\n",
    "    else:\n",
    "        return 0\n",
    "    \n",
    "def is_midnight(val):\n",
    "    if math.isnan(val):\n",
    "        return -1\n",
    "    \n",
    "    val = int(val)\n",
    "    if val in [20,21,22,23,0,1,2,3]:\n",
    "        return 1\n",
    "    else:\n",
    "        return 0"
   ]
  },
  {
   "cell_type": "code",
   "execution_count": 23,
   "metadata": {},
   "outputs": [],
   "source": [
    "# addition of the new variables for both the training dataset and testing dataset\n",
    "df_master[\"is_weekend\"] = [is_weekend(i) for i in df_master[\"Day_of_Week\"]]\n",
    "df_master[\"is_peak\"] = [is_peak(i) for i in df_master[\"Hour\"]]\n",
    "df_master[\"is_midnight\"] = [is_midnight(i) for i in df_master[\"Hour\"]]\n",
    "\n",
    "df_test[\"is_weekend\"] = [is_weekend(i) for i in df_test[\"Day_of_Week\"]]\n",
    "df_test[\"is_peak\"] = [is_peak(i) for i in df_test[\"Hour\"]]\n",
    "df_test[\"is_midnight\"] = [is_midnight(i) for i in df_test[\"Hour\"]]"
   ]
  },
  {
   "cell_type": "code",
   "execution_count": 24,
   "metadata": {},
   "outputs": [
    {
     "data": {
      "text/plain": [
       "array(['Accident_Index', 'Location_Easting_OSGR',\n",
       "       'Location_Northing_OSGR', 'Longitude', 'Latitude', 'Police_Force',\n",
       "       'Accident_Severity', 'Number_of_Vehicles', 'Number_of_Casualties',\n",
       "       'Date', 'Day_of_Week', 'Time', 'Local_Authority_(District)',\n",
       "       'Local_Authority_(Highway)', '1st_Road_Class', '1st_Road_Number',\n",
       "       'Road_Type', 'Speed_limit', 'Junction_Detail', 'Junction_Control',\n",
       "       '2nd_Road_Class', '2nd_Road_Number',\n",
       "       'Pedestrian_Crossing-Human_Control',\n",
       "       'Pedestrian_Crossing-Physical_Facilities', 'Light_Conditions',\n",
       "       'Weather_Conditions', 'Road_Surface_Conditions',\n",
       "       'Special_Conditions_at_Site', 'Carriageway_Hazards',\n",
       "       'Urban_or_Rural_Area',\n",
       "       'Did_Police_Officer_Attend_Scene_of_Accident',\n",
       "       'LSOA_of_Accident_Location', 'Year', 'Latitude_Area',\n",
       "       'Longitude_Area', 'Month', 'Day_of_Month', 'Hour', 'is_weekend',\n",
       "       'is_peak', 'is_midnight'], dtype=object)"
      ]
     },
     "execution_count": 24,
     "metadata": {},
     "output_type": "execute_result"
    }
   ],
   "source": [
    "df_master.columns.values"
   ]
  },
  {
   "cell_type": "code",
   "execution_count": 25,
   "metadata": {},
   "outputs": [
    {
     "data": {
      "text/html": [
       "<div>\n",
       "<style scoped>\n",
       "    .dataframe tbody tr th:only-of-type {\n",
       "        vertical-align: middle;\n",
       "    }\n",
       "\n",
       "    .dataframe tbody tr th {\n",
       "        vertical-align: top;\n",
       "    }\n",
       "\n",
       "    .dataframe thead th {\n",
       "        text-align: right;\n",
       "    }\n",
       "</style>\n",
       "<table border=\"1\" class=\"dataframe\">\n",
       "  <thead>\n",
       "    <tr style=\"text-align: right;\">\n",
       "      <th></th>\n",
       "      <th>Accident_Index</th>\n",
       "      <th>Location_Easting_OSGR</th>\n",
       "      <th>Location_Northing_OSGR</th>\n",
       "      <th>Longitude</th>\n",
       "      <th>Latitude</th>\n",
       "      <th>Police_Force</th>\n",
       "      <th>Accident_Severity</th>\n",
       "      <th>Number_of_Vehicles</th>\n",
       "      <th>Number_of_Casualties</th>\n",
       "      <th>Date</th>\n",
       "      <th>...</th>\n",
       "      <th>LSOA_of_Accident_Location</th>\n",
       "      <th>Year</th>\n",
       "      <th>Latitude_Area</th>\n",
       "      <th>Longitude_Area</th>\n",
       "      <th>Month</th>\n",
       "      <th>Day_of_Month</th>\n",
       "      <th>Hour</th>\n",
       "      <th>is_weekend</th>\n",
       "      <th>is_peak</th>\n",
       "      <th>is_midnight</th>\n",
       "    </tr>\n",
       "  </thead>\n",
       "  <tbody>\n",
       "    <tr>\n",
       "      <th>0</th>\n",
       "      <td>200501BS00003</td>\n",
       "      <td>524520.0</td>\n",
       "      <td>182240.0</td>\n",
       "      <td>-0.206458</td>\n",
       "      <td>51.525301</td>\n",
       "      <td>1</td>\n",
       "      <td>3</td>\n",
       "      <td>2</td>\n",
       "      <td>1</td>\n",
       "      <td>2005-01-06</td>\n",
       "      <td>...</td>\n",
       "      <td>E01002857</td>\n",
       "      <td>2005</td>\n",
       "      <td>5.003946</td>\n",
       "      <td>6.670766</td>\n",
       "      <td>1</td>\n",
       "      <td>6</td>\n",
       "      <td>0.0</td>\n",
       "      <td>0</td>\n",
       "      <td>0</td>\n",
       "      <td>1</td>\n",
       "    </tr>\n",
       "    <tr>\n",
       "      <th>1</th>\n",
       "      <td>200501BS00004</td>\n",
       "      <td>526900.0</td>\n",
       "      <td>177530.0</td>\n",
       "      <td>-0.173862</td>\n",
       "      <td>51.482442</td>\n",
       "      <td>1</td>\n",
       "      <td>3</td>\n",
       "      <td>1</td>\n",
       "      <td>1</td>\n",
       "      <td>2005-01-07</td>\n",
       "      <td>...</td>\n",
       "      <td>E01002840</td>\n",
       "      <td>2005</td>\n",
       "      <td>4.976734</td>\n",
       "      <td>6.674561</td>\n",
       "      <td>1</td>\n",
       "      <td>7</td>\n",
       "      <td>10.0</td>\n",
       "      <td>0</td>\n",
       "      <td>0</td>\n",
       "      <td>0</td>\n",
       "    </tr>\n",
       "    <tr>\n",
       "      <th>2</th>\n",
       "      <td>200501BS00005</td>\n",
       "      <td>528060.0</td>\n",
       "      <td>179040.0</td>\n",
       "      <td>-0.156618</td>\n",
       "      <td>51.495752</td>\n",
       "      <td>1</td>\n",
       "      <td>3</td>\n",
       "      <td>1</td>\n",
       "      <td>1</td>\n",
       "      <td>2005-01-10</td>\n",
       "      <td>...</td>\n",
       "      <td>E01002863</td>\n",
       "      <td>2005</td>\n",
       "      <td>4.983607</td>\n",
       "      <td>6.677083</td>\n",
       "      <td>1</td>\n",
       "      <td>10</td>\n",
       "      <td>21.0</td>\n",
       "      <td>0</td>\n",
       "      <td>0</td>\n",
       "      <td>1</td>\n",
       "    </tr>\n",
       "    <tr>\n",
       "      <th>3</th>\n",
       "      <td>200501BS00006</td>\n",
       "      <td>524770.0</td>\n",
       "      <td>181160.0</td>\n",
       "      <td>-0.203238</td>\n",
       "      <td>51.515540</td>\n",
       "      <td>1</td>\n",
       "      <td>3</td>\n",
       "      <td>2</td>\n",
       "      <td>1</td>\n",
       "      <td>2005-01-11</td>\n",
       "      <td>...</td>\n",
       "      <td>E01002832</td>\n",
       "      <td>2005</td>\n",
       "      <td>4.997212</td>\n",
       "      <td>6.670766</td>\n",
       "      <td>1</td>\n",
       "      <td>11</td>\n",
       "      <td>12.0</td>\n",
       "      <td>0</td>\n",
       "      <td>0</td>\n",
       "      <td>0</td>\n",
       "    </tr>\n",
       "    <tr>\n",
       "      <th>4</th>\n",
       "      <td>200501BS00009</td>\n",
       "      <td>525890.0</td>\n",
       "      <td>179710.0</td>\n",
       "      <td>-0.187623</td>\n",
       "      <td>51.502260</td>\n",
       "      <td>1</td>\n",
       "      <td>3</td>\n",
       "      <td>1</td>\n",
       "      <td>2</td>\n",
       "      <td>2005-01-14</td>\n",
       "      <td>...</td>\n",
       "      <td>E01002889</td>\n",
       "      <td>2005</td>\n",
       "      <td>4.990433</td>\n",
       "      <td>6.673298</td>\n",
       "      <td>1</td>\n",
       "      <td>14</td>\n",
       "      <td>17.0</td>\n",
       "      <td>0</td>\n",
       "      <td>1</td>\n",
       "      <td>0</td>\n",
       "    </tr>\n",
       "  </tbody>\n",
       "</table>\n",
       "<p>5 rows × 41 columns</p>\n",
       "</div>"
      ],
      "text/plain": [
       "  Accident_Index  Location_Easting_OSGR  Location_Northing_OSGR  Longitude  \\\n",
       "0  200501BS00003               524520.0                182240.0  -0.206458   \n",
       "1  200501BS00004               526900.0                177530.0  -0.173862   \n",
       "2  200501BS00005               528060.0                179040.0  -0.156618   \n",
       "3  200501BS00006               524770.0                181160.0  -0.203238   \n",
       "4  200501BS00009               525890.0                179710.0  -0.187623   \n",
       "\n",
       "    Latitude  Police_Force  Accident_Severity  Number_of_Vehicles  \\\n",
       "0  51.525301             1                  3                   2   \n",
       "1  51.482442             1                  3                   1   \n",
       "2  51.495752             1                  3                   1   \n",
       "3  51.515540             1                  3                   2   \n",
       "4  51.502260             1                  3                   1   \n",
       "\n",
       "   Number_of_Casualties       Date     ...      LSOA_of_Accident_Location  \\\n",
       "0                     1 2005-01-06     ...                      E01002857   \n",
       "1                     1 2005-01-07     ...                      E01002840   \n",
       "2                     1 2005-01-10     ...                      E01002863   \n",
       "3                     1 2005-01-11     ...                      E01002832   \n",
       "4                     2 2005-01-14     ...                      E01002889   \n",
       "\n",
       "   Year  Latitude_Area Longitude_Area  Month  Day_of_Month  Hour  is_weekend  \\\n",
       "0  2005       5.003946       6.670766      1             6   0.0           0   \n",
       "1  2005       4.976734       6.674561      1             7  10.0           0   \n",
       "2  2005       4.983607       6.677083      1            10  21.0           0   \n",
       "3  2005       4.997212       6.670766      1            11  12.0           0   \n",
       "4  2005       4.990433       6.673298      1            14  17.0           0   \n",
       "\n",
       "   is_peak is_midnight  \n",
       "0        0           1  \n",
       "1        0           0  \n",
       "2        0           1  \n",
       "3        0           0  \n",
       "4        1           0  \n",
       "\n",
       "[5 rows x 41 columns]"
      ]
     },
     "execution_count": 25,
     "metadata": {},
     "output_type": "execute_result"
    }
   ],
   "source": [
    "df_master.head()"
   ]
  },
  {
   "cell_type": "markdown",
   "metadata": {},
   "source": [
    "<div class=\"alert alert-block alert-info\">\n",
    "Before we move on to feature selection, we can remove some features based on the following reasons:\n",
    "<br>\n",
    "**1. The information is repeated in other column**\n",
    "<br>\n",
    "'Latitude_Area' and 'Longitude_Area' will be used as the geographical variables. Thus other columns that contains geographical information can be removed. This means columns including 'Location_Easting_OSGR', 'Location_Northing_OSGR','Longitude', 'Latitude','Local_Authority_(District)','Local_Authority_(Highway)','LSOA_of_Accident_Location'\n",
    "<br>\n",
    "**2. The values in the variable are largely skewed which means majority of the cases have the same value**\n",
    "<br> \n",
    "As the distribution is largely skewed, it is thus not so meaningful to include the attribute as the attribute does no differentiate a particular severity level or value add to the prediction of different severity level. These columns include '2nd_Road_Class', '2nd_Road_Number','Pedestrian_Crossing-Human_Control','Pedestrian_Crossing-Physical_Facilities','Special_Conditions_at_Site', 'Carriageway_Hazards'.\n",
    "<br>\n",
    "**3. The values in the variable are largely NAs**\n",
    "<br> \n",
    "NA means the information is not available, thus, it does not provide any information for prediction. Hence, it should be removed. These columns include Junction_Detail','Junction_Control'.\n",
    "<br>\n",
    "**4. Values that are distinct for each case**\n",
    "<br> \n",
    "This refers to column 'Accident_Index' which is served as the primary key for the case and does not provide any information for the conditions when the accident happened.\n",
    "<br>\n",
    "<br>\n",
    "Based on the above reasoning, the following variables are selected:\n",
    "</div>"
   ]
  },
  {
   "cell_type": "code",
   "execution_count": 26,
   "metadata": {},
   "outputs": [],
   "source": [
    "# selection of variables for training dataset\n",
    "df_master = df_master[['Police_Force','Accident_Severity', 'Number_of_Vehicles', 'Number_of_Casualties',\n",
    "                       'Day_of_Week', '1st_Road_Class', 'Road_Type', 'Speed_limit', \n",
    "                       'Light_Conditions','Weather_Conditions', 'Road_Surface_Conditions','Urban_or_Rural_Area',\n",
    "                       'Did_Police_Officer_Attend_Scene_of_Accident','Latitude_Area',\n",
    "                       'Longitude_Area', 'Month', 'Day_of_Month', 'Hour', 'is_weekend', 'is_peak','is_midnight']]"
   ]
  },
  {
   "cell_type": "code",
   "execution_count": 27,
   "metadata": {},
   "outputs": [],
   "source": [
    "# selection of variables for testing dataset\n",
    "df_test = df_test[['Police_Force','Accident_Severity', 'Number_of_Vehicles', 'Number_of_Casualties',\n",
    "                       'Day_of_Week', '1st_Road_Class', 'Road_Type', 'Speed_limit', \n",
    "                       'Light_Conditions','Weather_Conditions', 'Road_Surface_Conditions','Urban_or_Rural_Area',\n",
    "                       'Did_Police_Officer_Attend_Scene_of_Accident','Latitude_Area',\n",
    "                       'Longitude_Area', 'Month', 'Day_of_Month', 'Hour', 'is_weekend', 'is_peak','is_midnight']]"
   ]
  },
  {
   "cell_type": "markdown",
   "metadata": {},
   "source": [
    "## 2.3 Transform to Numeric Categorical Values"
   ]
  },
  {
   "cell_type": "markdown",
   "metadata": {},
   "source": [
    "<div class=\"alert alert-block alert-info\">\n",
    "As most of the variable inputs are in string, we will need to transform that to numeric categorical values for easy manipulations later.\n",
    "</div>"
   ]
  },
  {
   "cell_type": "code",
   "execution_count": 28,
   "metadata": {},
   "outputs": [],
   "source": [
    "# change the value for Light_Conditions\n",
    "light_dic = {'Darkeness: No street lighting': 4,\n",
    "            'Darkness: Street lighting unknown': 5,\n",
    "            'Darkness: Street lights present and lit': 2,\n",
    "            'Darkness: Street lights present but unlit': 3,\n",
    "            'Daylight: Street light present': 1}\n",
    "df_master = df_master.replace({\"Light_Conditions\": light_dic})\n",
    "df_test = df_test.replace({\"Light_Conditions\": light_dic})"
   ]
  },
  {
   "cell_type": "code",
   "execution_count": 29,
   "metadata": {},
   "outputs": [],
   "source": [
    "# change the value for Weather_Conditions\n",
    "weather_dic = {'Fine with high winds': 1,\n",
    "               'Fine without high winds': 2,\n",
    "               'Fog or mist': 3,\n",
    "               'Other': 4,\n",
    "               'Raining with high winds': 6,\n",
    "               'Raining without high winds': 5,\n",
    "               'Snowing with high winds': 8,\n",
    "               'Snowing without high winds': 7,\n",
    "               'Unknown': -1}\n",
    "df_master = df_master.replace({\"Weather_Conditions\": weather_dic})\n",
    "df_test = df_test.replace({\"Weather_Conditions\": weather_dic})"
   ]
  },
  {
   "cell_type": "code",
   "execution_count": 30,
   "metadata": {},
   "outputs": [],
   "source": [
    "# change the value for Road_Surface_Conditions\n",
    "road_dic = {'Dry': 1,\n",
    "            'Flood (Over 3cm of water)': 5,\n",
    "            'Frost/Ice': 4, \n",
    "            'Snow': 3, \n",
    "            'Wet/Damp': 2}\n",
    "df_master = df_master.replace({\"Road_Surface_Conditions\": road_dic})\n",
    "df_test = df_test.replace({\"Road_Surface_Conditions\": road_dic})"
   ]
  },
  {
   "cell_type": "code",
   "execution_count": 31,
   "metadata": {},
   "outputs": [],
   "source": [
    "road_type_dic = {'Roundabout':1,\n",
    "                 'One way street':2,\n",
    "                 'Dual carriageway':3,\n",
    "                 'Single carriageway':4,\n",
    "                 'Slip road':5,\n",
    "                 'Unknown':-1}\n",
    "df_master = df_master.replace({'Road_Type': road_type_dic})\n",
    "df_test = df_test.replace({'Road_Type': road_type_dic})"
   ]
  },
  {
   "cell_type": "code",
   "execution_count": 32,
   "metadata": {},
   "outputs": [],
   "source": [
    "police_dic = {'Yes':1,'No':2,'nan':-1}\n",
    "df_master = df_master.replace({'Did_Police_Officer_Attend_Scene_of_Accident':police_dic})\n",
    "df_test = df_test.replace({'Did_Police_Officer_Attend_Scene_of_Accident':police_dic})"
   ]
  },
  {
   "cell_type": "code",
   "execution_count": 33,
   "metadata": {},
   "outputs": [
    {
     "data": {
      "text/html": [
       "<div>\n",
       "<style scoped>\n",
       "    .dataframe tbody tr th:only-of-type {\n",
       "        vertical-align: middle;\n",
       "    }\n",
       "\n",
       "    .dataframe tbody tr th {\n",
       "        vertical-align: top;\n",
       "    }\n",
       "\n",
       "    .dataframe thead th {\n",
       "        text-align: right;\n",
       "    }\n",
       "</style>\n",
       "<table border=\"1\" class=\"dataframe\">\n",
       "  <thead>\n",
       "    <tr style=\"text-align: right;\">\n",
       "      <th></th>\n",
       "      <th>Police_Force</th>\n",
       "      <th>Accident_Severity</th>\n",
       "      <th>Number_of_Vehicles</th>\n",
       "      <th>Number_of_Casualties</th>\n",
       "      <th>Day_of_Week</th>\n",
       "      <th>1st_Road_Class</th>\n",
       "      <th>Road_Type</th>\n",
       "      <th>Speed_limit</th>\n",
       "      <th>Light_Conditions</th>\n",
       "      <th>Weather_Conditions</th>\n",
       "      <th>...</th>\n",
       "      <th>Urban_or_Rural_Area</th>\n",
       "      <th>Did_Police_Officer_Attend_Scene_of_Accident</th>\n",
       "      <th>Latitude_Area</th>\n",
       "      <th>Longitude_Area</th>\n",
       "      <th>Month</th>\n",
       "      <th>Day_of_Month</th>\n",
       "      <th>Hour</th>\n",
       "      <th>is_weekend</th>\n",
       "      <th>is_peak</th>\n",
       "      <th>is_midnight</th>\n",
       "    </tr>\n",
       "  </thead>\n",
       "  <tbody>\n",
       "    <tr>\n",
       "      <th>0</th>\n",
       "      <td>1</td>\n",
       "      <td>3</td>\n",
       "      <td>2</td>\n",
       "      <td>1</td>\n",
       "      <td>5</td>\n",
       "      <td>5</td>\n",
       "      <td>4</td>\n",
       "      <td>30</td>\n",
       "      <td>2</td>\n",
       "      <td>2.0</td>\n",
       "      <td>...</td>\n",
       "      <td>1</td>\n",
       "      <td>1.0</td>\n",
       "      <td>5.003946</td>\n",
       "      <td>6.670766</td>\n",
       "      <td>1</td>\n",
       "      <td>6</td>\n",
       "      <td>0.0</td>\n",
       "      <td>0</td>\n",
       "      <td>0</td>\n",
       "      <td>1</td>\n",
       "    </tr>\n",
       "    <tr>\n",
       "      <th>1</th>\n",
       "      <td>1</td>\n",
       "      <td>3</td>\n",
       "      <td>1</td>\n",
       "      <td>1</td>\n",
       "      <td>6</td>\n",
       "      <td>3</td>\n",
       "      <td>4</td>\n",
       "      <td>30</td>\n",
       "      <td>1</td>\n",
       "      <td>2.0</td>\n",
       "      <td>...</td>\n",
       "      <td>1</td>\n",
       "      <td>1.0</td>\n",
       "      <td>4.976734</td>\n",
       "      <td>6.674561</td>\n",
       "      <td>1</td>\n",
       "      <td>7</td>\n",
       "      <td>10.0</td>\n",
       "      <td>0</td>\n",
       "      <td>0</td>\n",
       "      <td>0</td>\n",
       "    </tr>\n",
       "    <tr>\n",
       "      <th>2</th>\n",
       "      <td>1</td>\n",
       "      <td>3</td>\n",
       "      <td>1</td>\n",
       "      <td>1</td>\n",
       "      <td>2</td>\n",
       "      <td>6</td>\n",
       "      <td>4</td>\n",
       "      <td>30</td>\n",
       "      <td>5</td>\n",
       "      <td>2.0</td>\n",
       "      <td>...</td>\n",
       "      <td>1</td>\n",
       "      <td>1.0</td>\n",
       "      <td>4.983607</td>\n",
       "      <td>6.677083</td>\n",
       "      <td>1</td>\n",
       "      <td>10</td>\n",
       "      <td>21.0</td>\n",
       "      <td>0</td>\n",
       "      <td>0</td>\n",
       "      <td>1</td>\n",
       "    </tr>\n",
       "    <tr>\n",
       "      <th>3</th>\n",
       "      <td>1</td>\n",
       "      <td>3</td>\n",
       "      <td>2</td>\n",
       "      <td>1</td>\n",
       "      <td>3</td>\n",
       "      <td>6</td>\n",
       "      <td>4</td>\n",
       "      <td>30</td>\n",
       "      <td>1</td>\n",
       "      <td>5.0</td>\n",
       "      <td>...</td>\n",
       "      <td>1</td>\n",
       "      <td>1.0</td>\n",
       "      <td>4.997212</td>\n",
       "      <td>6.670766</td>\n",
       "      <td>1</td>\n",
       "      <td>11</td>\n",
       "      <td>12.0</td>\n",
       "      <td>0</td>\n",
       "      <td>0</td>\n",
       "      <td>0</td>\n",
       "    </tr>\n",
       "    <tr>\n",
       "      <th>4</th>\n",
       "      <td>1</td>\n",
       "      <td>3</td>\n",
       "      <td>1</td>\n",
       "      <td>2</td>\n",
       "      <td>6</td>\n",
       "      <td>3</td>\n",
       "      <td>3</td>\n",
       "      <td>30</td>\n",
       "      <td>1</td>\n",
       "      <td>2.0</td>\n",
       "      <td>...</td>\n",
       "      <td>1</td>\n",
       "      <td>1.0</td>\n",
       "      <td>4.990433</td>\n",
       "      <td>6.673298</td>\n",
       "      <td>1</td>\n",
       "      <td>14</td>\n",
       "      <td>17.0</td>\n",
       "      <td>0</td>\n",
       "      <td>1</td>\n",
       "      <td>0</td>\n",
       "    </tr>\n",
       "  </tbody>\n",
       "</table>\n",
       "<p>5 rows × 21 columns</p>\n",
       "</div>"
      ],
      "text/plain": [
       "   Police_Force  Accident_Severity  Number_of_Vehicles  Number_of_Casualties  \\\n",
       "0             1                  3                   2                     1   \n",
       "1             1                  3                   1                     1   \n",
       "2             1                  3                   1                     1   \n",
       "3             1                  3                   2                     1   \n",
       "4             1                  3                   1                     2   \n",
       "\n",
       "   Day_of_Week  1st_Road_Class  Road_Type  Speed_limit  Light_Conditions  \\\n",
       "0            5               5          4           30                 2   \n",
       "1            6               3          4           30                 1   \n",
       "2            2               6          4           30                 5   \n",
       "3            3               6          4           30                 1   \n",
       "4            6               3          3           30                 1   \n",
       "\n",
       "   Weather_Conditions     ...       Urban_or_Rural_Area  \\\n",
       "0                 2.0     ...                         1   \n",
       "1                 2.0     ...                         1   \n",
       "2                 2.0     ...                         1   \n",
       "3                 5.0     ...                         1   \n",
       "4                 2.0     ...                         1   \n",
       "\n",
       "   Did_Police_Officer_Attend_Scene_of_Accident  Latitude_Area  Longitude_Area  \\\n",
       "0                                          1.0       5.003946        6.670766   \n",
       "1                                          1.0       4.976734        6.674561   \n",
       "2                                          1.0       4.983607        6.677083   \n",
       "3                                          1.0       4.997212        6.670766   \n",
       "4                                          1.0       4.990433        6.673298   \n",
       "\n",
       "   Month  Day_of_Month  Hour  is_weekend  is_peak  is_midnight  \n",
       "0      1             6   0.0           0        0            1  \n",
       "1      1             7  10.0           0        0            0  \n",
       "2      1            10  21.0           0        0            1  \n",
       "3      1            11  12.0           0        0            0  \n",
       "4      1            14  17.0           0        1            0  \n",
       "\n",
       "[5 rows x 21 columns]"
      ]
     },
     "execution_count": 33,
     "metadata": {},
     "output_type": "execute_result"
    }
   ],
   "source": [
    "df_master.head()"
   ]
  },
  {
   "cell_type": "code",
   "execution_count": 34,
   "metadata": {},
   "outputs": [
    {
     "data": {
      "text/plain": [
       "array(['Police_Force', 'Accident_Severity', 'Number_of_Vehicles',\n",
       "       'Number_of_Casualties', 'Day_of_Week', '1st_Road_Class',\n",
       "       'Road_Type', 'Speed_limit', 'Light_Conditions',\n",
       "       'Weather_Conditions', 'Road_Surface_Conditions',\n",
       "       'Urban_or_Rural_Area',\n",
       "       'Did_Police_Officer_Attend_Scene_of_Accident', 'Latitude_Area',\n",
       "       'Longitude_Area', 'Month', 'Day_of_Month', 'Hour', 'is_weekend',\n",
       "       'is_peak', 'is_midnight'], dtype=object)"
      ]
     },
     "execution_count": 34,
     "metadata": {},
     "output_type": "execute_result"
    }
   ],
   "source": [
    "df_master.columns.values"
   ]
  },
  {
   "cell_type": "markdown",
   "metadata": {},
   "source": [
    "## 2.4 Adjusting the Scale for Speed Limit"
   ]
  },
  {
   "cell_type": "markdown",
   "metadata": {},
   "source": [
    "<div class=\"alert alert-block alert-info\">\n",
    "As most of the variable inputs are within 1-10 range, while for speed limit, the range is goes up to 80. Thus, we will need to adjust the scale for speed limit and ensure it is alined with other input variables.\n",
    "</div>"
   ]
  },
  {
   "cell_type": "code",
   "execution_count": 35,
   "metadata": {},
   "outputs": [],
   "source": [
    "# adjust the scale foe speed limit by dividing by 10\n",
    "df_master['Speed_limit'] = df_master['Speed_limit']/10\n",
    "df_test['Speed_limit'] = df_test['Speed_limit']/10"
   ]
  },
  {
   "cell_type": "code",
   "execution_count": 36,
   "metadata": {},
   "outputs": [],
   "source": [
    "df_master.replace(-1, np.nan, inplace=True)\n",
    "df_master = df_master.dropna()\n",
    "\n",
    "df_test.replace(-1, np.nan, inplace=True)\n",
    "df_test = df_test.dropna()"
   ]
  },
  {
   "cell_type": "code",
   "execution_count": 37,
   "metadata": {},
   "outputs": [
    {
     "name": "stdout",
     "output_type": "stream",
     "text": [
      "After dropping NAs 1160419\n"
     ]
    }
   ],
   "source": [
    "print ('After dropping NAs', len(df_master))"
   ]
  },
  {
   "cell_type": "code",
   "execution_count": 38,
   "metadata": {},
   "outputs": [
    {
     "name": "stdout",
     "output_type": "stream",
     "text": [
      "Before dropping NAs 1196390\n"
     ]
    }
   ],
   "source": [
    "print ('Before dropping NAs', len(train))"
   ]
  },
  {
   "cell_type": "markdown",
   "metadata": {},
   "source": [
    "# 3. Feature Selection"
   ]
  },
  {
   "cell_type": "markdown",
   "metadata": {},
   "source": [
    "## Correlation"
   ]
  },
  {
   "cell_type": "code",
   "execution_count": 39,
   "metadata": {},
   "outputs": [
    {
     "data": {
      "image/png": "[encoded data removed]",
      "text/plain": [
       "<matplotlib.figure.Figure at 0x1a19f4bbe0>"
      ]
     },
     "metadata": {},
     "output_type": "display_data"
    }
   ],
   "source": [
    "# Compute the correlation matrix\n",
    "corr_master = df_master.corr(method='kendall')\n",
    "\n",
    "# Draw the correlation matrix\n",
    "sns.heatmap(corr_master, square=True, linewidths=.4, cbar_kws={\"shrink\": .4})\n",
    "\n",
    "plt.title(\"Accident Correlation\")\n",
    "plt.show()"
   ]
  },
  {
   "cell_type": "markdown",
   "metadata": {},
   "source": [
    "<div class=\"alert alert-block alert-info\">\n",
    "There are variables that are correlated, such as road_surface_conditions and weather_conditions. However, it is unsure which one of these correlated variables to remove. Thus, we will use the recursive feature elimination in the later section to decide the variables to remove.\n",
    "</div>"
   ]
  },
  {
   "cell_type": "code",
   "execution_count": 40,
   "metadata": {},
   "outputs": [
    {
     "data": {
      "text/plain": [
       "Day_of_Week                                    0.001278\n",
       "Day_of_Month                                   0.002042\n",
       "Month                                          0.003959\n",
       "Longitude_Area                                 0.004141\n",
       "Police_Force                                   0.007732\n",
       "Road_Surface_Conditions                        0.009571\n",
       "1st_Road_Class                                 0.013920\n",
       "Hour                                           0.015186\n",
       "Latitude_Area                                  0.021912\n",
       "Weather_Conditions                             0.025401\n",
       "is_peak                                        0.029503\n",
       "Road_Type                                      0.036658\n",
       "is_weekend                                     0.040189\n",
       "Speed_limit                                    0.063809\n",
       "Light_Conditions                               0.065630\n",
       "is_midnight                                    0.068017\n",
       "Urban_or_Rural_Area                            0.072364\n",
       "Number_of_Casualties                           0.074392\n",
       "Number_of_Vehicles                             0.101147\n",
       "Did_Police_Officer_Attend_Scene_of_Accident    0.123853\n",
       "Accident_Severity                              1.000000\n",
       "Name: Accident_Severity, dtype: float64"
      ]
     },
     "execution_count": 40,
     "metadata": {},
     "output_type": "execute_result"
    }
   ],
   "source": [
    "# zoom in to accident severity column to have a closer look\n",
    "corr_master = corr_master.abs()\n",
    "corr_master['Accident_Severity'].sort_values()"
   ]
  },
  {
   "cell_type": "markdown",
   "metadata": {},
   "source": [
    "<div class=\"alert alert-block alert-info\">\n",
    "We will drop the last two ranked attributes as they are not siginificant and contained in other attributes\n",
    "</div>"
   ]
  },
  {
   "cell_type": "code",
   "execution_count": 41,
   "metadata": {},
   "outputs": [],
   "source": [
    "df_master = df_master.drop(['Day_of_Week', 'Day_of_Month'], axis = 1).reset_index()\n",
    "df_test = df_test.drop(['Day_of_Week', 'Day_of_Month'], axis = 1).reset_index()"
   ]
  },
  {
   "cell_type": "markdown",
   "metadata": {},
   "source": [
    "# 4. Sampling the Dataset"
   ]
  },
  {
   "cell_type": "markdown",
   "metadata": {},
   "source": [
    "<div class=\"alert alert-block alert-info\">\n",
    "Based on the plots shown in section 1, the distribution of target variable(accident severity) is extremely uneven. Thus, it is important to re-sample the data to adjust the distribution in the training dataset. There are a few ways to adjust the distribution such as undersample and oversample. However, as the size of the training dataset is rather big and goes beyong the computing power of our laptops, we have limited the size of the training dataset and sampled based on the counts for severity level 2.\n",
    "</div>"
   ]
  },
  {
   "cell_type": "code",
   "execution_count": 42,
   "metadata": {},
   "outputs": [],
   "source": [
    "def undersample(df):\n",
    "    count_class_3, count_class_2, count_class_1 = df.Accident_Severity.value_counts()\n",
    "    \n",
    "    # split based on accident severity\n",
    "    df_class_1 = df[df['Accident_Severity'] == 1]\n",
    "    df_class_2 = df[df['Accident_Severity'] == 2]\n",
    "    df_class_3 = df[df['Accident_Severity'] == 3]\n",
    "    \n",
    "    # Random under-sampling\n",
    "    df_class_3_under = df_class_3.sample(count_class_1)\n",
    "    df_class_2_under = df_class_2.sample(count_class_1)\n",
    "\n",
    "    df_train_under = pd.concat([df_class_3_under, df_class_1],axis=0)\n",
    "    df_train_under = pd.concat([df_train_under, df_class_2_under], axis = 0)\n",
    "    \n",
    "    return df_train_under\n",
    "    "
   ]
  },
  {
   "cell_type": "code",
   "execution_count": 43,
   "metadata": {},
   "outputs": [],
   "source": [
    "def oversample(df):\n",
    "    count_class_3, count_class_2, count_class_1 = df.Accident_Severity.value_counts()\n",
    "    \n",
    "    # split based on accident severity\n",
    "    df_class_1 = df[df['Accident_Severity'] == 1]\n",
    "    df_class_2 = df[df['Accident_Severity'] == 2]\n",
    "    df_class_3 = df[df['Accident_Severity'] == 3]\n",
    "    \n",
    "    # Random over-sampling\n",
    "    df_class_1_over = df_class_1.sample(count_class_3, replace = True)\n",
    "    df_class_2_over = df_class_2.sample(count_class_3, replace = True)\n",
    "\n",
    "    df_train_over = pd.concat([df_class_3, df_class_1_over], axis = 0)\n",
    "    df_train_over = pd.concat([df_train_over, df_class_2_over], axis = 0)\n",
    "\n",
    "    return df_train_over"
   ]
  },
  {
   "cell_type": "code",
   "execution_count": 44,
   "metadata": {},
   "outputs": [],
   "source": [
    "def midsample(df):\n",
    "    count_class_3, count_class_2, count_class_1 = df.Accident_Severity.value_counts()\n",
    "    \n",
    "    # split based on accident severity\n",
    "    df_class_1 = df[df['Accident_Severity'] == 1]\n",
    "    df_class_2 = df[df['Accident_Severity'] == 2]\n",
    "    df_class_3 = df[df['Accident_Severity'] == 3]\n",
    "    \n",
    "    # Random over-sampling for class 1 and class 2\n",
    "    df_class_1_over = df_class_1.sample(count_class_2, replace = True)\n",
    "    # df_class_2_over = df_class_2.sample(500000, replace = True)\n",
    "    # Random under-sampling for class 3\n",
    "    df_class_3_under = df_class_3.sample(count_class_2)\n",
    "    \n",
    "    df_train_mid = pd.concat([df_class_2, df_class_1_over], axis = 0)\n",
    "    df_train_mid = pd.concat([df_train_mid, df_class_3_under], axis = 0)\n",
    "\n",
    "    return df_train_mid"
   ]
  },
  {
   "cell_type": "code",
   "execution_count": 45,
   "metadata": {},
   "outputs": [],
   "source": [
    "df_train_under = undersample(df_master)"
   ]
  },
  {
   "cell_type": "code",
   "execution_count": 46,
   "metadata": {},
   "outputs": [
    {
     "name": "stdout",
     "output_type": "stream",
     "text": [
      "Random under-sampling:\n",
      "3    17574\n",
      "2    17574\n",
      "1    17574\n",
      "Name: Accident_Severity, dtype: int64\n"
     ]
    }
   ],
   "source": [
    "print (\"Random under-sampling:\")\n",
    "print (df_train_under.Accident_Severity.value_counts())"
   ]
  },
  {
   "cell_type": "code",
   "execution_count": 47,
   "metadata": {},
   "outputs": [],
   "source": [
    "df_train_mid = midsample(df_master)"
   ]
  },
  {
   "cell_type": "code",
   "execution_count": 48,
   "metadata": {},
   "outputs": [
    {
     "name": "stdout",
     "output_type": "stream",
     "text": [
      "Random mid-sampling:\n",
      "3    152979\n",
      "2    152979\n",
      "1    152979\n",
      "Name: Accident_Severity, dtype: int64\n"
     ]
    }
   ],
   "source": [
    "print (\"Random mid-sampling:\")\n",
    "print (df_train_mid.Accident_Severity.value_counts())"
   ]
  },
  {
   "cell_type": "code",
   "execution_count": 49,
   "metadata": {},
   "outputs": [],
   "source": [
    "df_train_over = oversample(df_master)"
   ]
  },
  {
   "cell_type": "code",
   "execution_count": 50,
   "metadata": {},
   "outputs": [
    {
     "name": "stdout",
     "output_type": "stream",
     "text": [
      "Random over-sampling:\n",
      "3    989866\n",
      "2    989866\n",
      "1    989866\n",
      "Name: Accident_Severity, dtype: int64\n"
     ]
    }
   ],
   "source": [
    "print (\"Random over-sampling:\")\n",
    "print (df_train_over.Accident_Severity.value_counts())"
   ]
  },
  {
   "cell_type": "code",
   "execution_count": 51,
   "metadata": {},
   "outputs": [],
   "source": [
    "# training dataset\n",
    "X_under = df_train_under.drop([\"Accident_Severity\"], axis = 1)\n",
    "Y_under = df_train_under[['Accident_Severity']]\n",
    "\n",
    "X_mid = df_train_mid.drop([\"Accident_Severity\"], axis = 1)\n",
    "Y_mid = df_train_mid[['Accident_Severity']]\n",
    "\n",
    "X_over = df_train_over.drop([\"Accident_Severity\"], axis = 1)\n",
    "Y_over = df_train_over[['Accident_Severity']]"
   ]
  },
  {
   "cell_type": "code",
   "execution_count": 52,
   "metadata": {},
   "outputs": [],
   "source": [
    "# testing dataset\n",
    "X_test = df_test.drop([\"Accident_Severity\"], axis = 1)\n",
    "Y_test = df_test[['Accident_Severity']]"
   ]
  },
  {
   "cell_type": "markdown",
   "metadata": {},
   "source": [
    "# 5. One Hot Encoding"
   ]
  },
  {
   "cell_type": "markdown",
   "metadata": {},
   "source": [
    "<div class=\"alert alert-block alert-info\">\n",
    "One hot encoding is used here to transform the categorical variable to multiple binary columns. We understand by transforming this way, it will increase the nummber of features dramatically. Thus, the dataset retrieved after one hot encoding will be handled with PCA to reduce the dimension and then feed into prediction model. We would like to compare the performance of dataset transformed using one hot encoding with the one without transformation."
   ]
  },
  {
   "cell_type": "code",
   "execution_count": 53,
   "metadata": {},
   "outputs": [],
   "source": [
    "# function takes in the dataframe and the columns need to be transformed in the dataframe\n",
    "def onehotencoding(df, col_list):\n",
    "    df_totransform = df[col_list]\n",
    "    \n",
    "    df.drop(col_list, axis = 1)\n",
    "    \n",
    "    ohe = OneHotEncoder(sparse=False)\n",
    "    array_ohe = ohe.fit_transform(df_totransform)\n",
    "    df_categorical_ohe = pd.DataFrame(array_ohe)\n",
    "    \n",
    "    df_categorical_ohe = df_categorical_ohe.reset_index()\n",
    "    df_noncategorical = df.reset_index()\n",
    "    df_ohe = pd.concat([df_categorical_ohe, df_noncategorical], axis=1)\n",
    "    \n",
    "    return df_ohe"
   ]
  },
  {
   "cell_type": "code",
   "execution_count": 54,
   "metadata": {},
   "outputs": [],
   "source": [
    "to_be_transformed = ['Police_Force','Speed_limit', '1st_Road_Class', 'Road_Type', \n",
    "                     'Light_Conditions', 'Weather_Conditions', 'Road_Surface_Conditions', \n",
    "                     'Urban_or_Rural_Area', 'Did_Police_Officer_Attend_Scene_of_Accident']"
   ]
  },
  {
   "cell_type": "code",
   "execution_count": 55,
   "metadata": {},
   "outputs": [],
   "source": [
    "# the transformed dataset for 3 sampled dataframe\n",
    "X_under_encoded = onehotencoding(X_under, to_be_transformed).drop(['index'], axis =1)\n",
    "\n",
    "X_mid_encoded = onehotencoding(X_mid, to_be_transformed).drop(['index'], axis =1)\n",
    "\n",
    "X_over_encoded = onehotencoding(X_over, to_be_transformed).drop(['index'], axis =1)"
   ]
  },
  {
   "cell_type": "code",
   "execution_count": 56,
   "metadata": {},
   "outputs": [],
   "source": [
    "X_mid = X_mid.drop(['index'],axis = 1)\n",
    "X_test = X_test.drop(['index'],axis = 1)"
   ]
  },
  {
   "cell_type": "markdown",
   "metadata": {},
   "source": [
    "# 6. Prediciton Model Training"
   ]
  },
  {
   "cell_type": "markdown",
   "metadata": {},
   "source": [
    "## 6.1 Model Selection"
   ]
  },
  {
   "cell_type": "code",
   "execution_count": 57,
   "metadata": {},
   "outputs": [],
   "source": [
    "# general prediction function that takes in the model used, training and testing dataset\n",
    "# the output for the function will be the F1 score of the model\n",
    "def model_pred(model, X_train, Y_train, X_test, Y_test):\n",
    "    model.fit(X_train, Y_train)\n",
    "    Y_pred = model.predict(X_test)\n",
    "    \n",
    "    result = f1_score(Y_test, Y_pred, average = 'micro')\n",
    "    \n",
    "    return result"
   ]
  },
  {
   "cell_type": "code",
   "execution_count": 58,
   "metadata": {},
   "outputs": [
    {
     "name": "stderr",
     "output_type": "stream",
     "text": [
      "/anaconda3/lib/python3.5/site-packages/ipykernel_launcher.py:4: DataConversionWarning: A column-vector y was passed when a 1d array was expected. Please change the shape of y to (n_samples,), for example using ravel().\n",
      "  after removing the cwd from sys.path.\n"
     ]
    },
    {
     "name": "stdout",
     "output_type": "stream",
     "text": [
      "The F1 score for random forest is,  0.5855523152543257\n"
     ]
    }
   ],
   "source": [
    "# Random Forest\n",
    "rf = RandomForestClassifier()\n",
    "rf_result = model_pred(rf, X_mid, Y_mid, X_test, Y_test)\n",
    "\n",
    "print (\"The F1 score for random forest is, \", rf_result)"
   ]
  },
  {
   "cell_type": "code",
   "execution_count": 59,
   "metadata": {},
   "outputs": [
    {
     "name": "stderr",
     "output_type": "stream",
     "text": [
      "/anaconda3/lib/python3.5/site-packages/sklearn/utils/validation.py:578: DataConversionWarning: A column-vector y was passed when a 1d array was expected. Please change the shape of y to (n_samples, ), for example using ravel().\n",
      "  y = column_or_1d(y, warn=True)\n"
     ]
    },
    {
     "name": "stdout",
     "output_type": "stream",
     "text": [
      "The F1 score for logistic regression is,  0.45332460927386253\n"
     ]
    }
   ],
   "source": [
    "# Logistic Regression\n",
    "lr = LogisticRegression()\n",
    "lr_result = model_pred(lr, X_mid, Y_mid, X_test, Y_test)\n",
    "\n",
    "print (\"The F1 score for logistic regression is, \", lr_result)\n"
   ]
  },
  {
   "cell_type": "code",
   "execution_count": 60,
   "metadata": {},
   "outputs": [
    {
     "name": "stdout",
     "output_type": "stream",
     "text": [
      "The F1 score for decision tree is,  0.5867324717655583\n"
     ]
    }
   ],
   "source": [
    "# Decision Trees\n",
    "dt = DecisionTreeClassifier()\n",
    "dt_result = model_pred(dt, X_mid, Y_mid, X_test, Y_test)\n",
    "\n",
    "print (\"The F1 score for decision tree is, \", dt_result)"
   ]
  },
  {
   "cell_type": "markdown",
   "metadata": {},
   "source": [
    "<div class=\"alert alert-block alert-info\">\n",
    "We have tested with 3 classfication models above (random forest, logistic regression and decision tree). Random forest and decision tree appears to be a more suitable prediction model for this case. Thus, for the further optimization of paramters and hyperparameter tuning will be based on random forest model.\n",
    "</div>"
   ]
  },
  {
   "cell_type": "markdown",
   "metadata": {},
   "source": [
    "## 6.2 Dimensionality Reduction - PCA"
   ]
  },
  {
   "cell_type": "markdown",
   "metadata": {},
   "source": [
    "<div class=\"alert alert-block alert-info\">\n",
    "Dimensionality reduction is used to for the one hot encoded dataset.\n",
    "</div>"
   ]
  },
  {
   "cell_type": "code",
   "execution_count": 61,
   "metadata": {},
   "outputs": [],
   "source": [
    "pca_mid = PCA()\n",
    "fit = pca_mid.fit(X_mid_encoded)"
   ]
  },
  {
   "cell_type": "code",
   "execution_count": 62,
   "metadata": {},
   "outputs": [
    {
     "name": "stdout",
     "output_type": "stream",
     "text": [
      "0.9999999934361936\n",
      "We need 1 components to explain at least 100.00 percent of the data.\n"
     ]
    }
   ],
   "source": [
    "total = 0\n",
    "num_of_components = 0\n",
    "for ratio in pca_mid.explained_variance_ratio_:\n",
    "    if total < 0.88:\n",
    "        print(ratio)\n",
    "        total += ratio\n",
    "        num_of_components += 1\n",
    "    else:\n",
    "        break\n",
    "print(\"We need %d components to explain at least %.2f percent of the data.\" %(num_of_components, total*100))"
   ]
  },
  {
   "cell_type": "code",
   "execution_count": 63,
   "metadata": {},
   "outputs": [
    {
     "data": {
      "text/plain": [
       "(458937, 1)"
      ]
     },
     "execution_count": 63,
     "metadata": {},
     "output_type": "execute_result"
    }
   ],
   "source": [
    "# Projecting our n dimension data onto 1 dimension space\n",
    "pca_mid2 = PCA(n_components=1)\n",
    "X_mid_pca = pca_mid2.fit_transform(X_mid)\n",
    "\n",
    "X_mid_pca.shape "
   ]
  },
  {
   "cell_type": "code",
   "execution_count": 64,
   "metadata": {},
   "outputs": [],
   "source": [
    "X_mid_pca_test = pca_mid2.fit_transform(X_test)"
   ]
  },
  {
   "cell_type": "code",
   "execution_count": 65,
   "metadata": {},
   "outputs": [
    {
     "name": "stderr",
     "output_type": "stream",
     "text": [
      "/anaconda3/lib/python3.5/site-packages/ipykernel_launcher.py:5: DataConversionWarning: A column-vector y was passed when a 1d array was expected. Please change the shape of y to (n_samples,), for example using ravel().\n",
      "  \"\"\"\n"
     ]
    },
    {
     "name": "stdout",
     "output_type": "stream",
     "text": [
      "The F1 score after PCA dimensionality reduction is:  0.4440559651091143\n"
     ]
    }
   ],
   "source": [
    "new_X_mid = pd.DataFrame(data=X_mid_pca)\n",
    "new_X_mid.columns = ['PC'+str(i) for i in range(1, 2)]\n",
    "\n",
    "rf = RandomForestClassifier()\n",
    "rf.fit(new_X_mid, Y_mid)\n",
    "Y_pred = rf.predict(X_mid_pca_test)\n",
    "result = f1_score(Y_test, Y_pred, average = 'micro')\n",
    "\n",
    "print ('The F1 score after PCA dimensionality reduction is: ', result)"
   ]
  },
  {
   "cell_type": "markdown",
   "metadata": {},
   "source": [
    "<div class=\"alert alert-block alert-info\">\n",
    "As shown in result for F1 score, it appears that using one hot encoding and PCA dimensionality reduction does not help to improve the performance of the model. Thus, instead of using one hot encoding and PCA, we will keep the numeric categorical variables and tap on recursive feature elimination to improve the model performance.\n",
    "</div>"
   ]
  },
  {
   "cell_type": "markdown",
   "metadata": {},
   "source": [
    "## 6.3 Recursive Feature Elimination"
   ]
  },
  {
   "cell_type": "markdown",
   "metadata": {},
   "source": [
    "<div class=\"alert alert-block alert-info\">\n",
    "Recursive feature elimination will select top n number of features that give the model the best performance. As there are 18 features in the model, we thus loop through 1 to 18 and assess when will the best F1 score be achieved.\n",
    "</div>"
   ]
  },
  {
   "cell_type": "code",
   "execution_count": 66,
   "metadata": {},
   "outputs": [],
   "source": [
    "# input:\n",
    "# model - the model used for this run\n",
    "# n - number of features should be selected\n",
    "# output:\n",
    "# the F1 score for this particular model with n features\n",
    "def rfe_selection(model, n, X_train, X_test, Y_train, Y_test):\n",
    "    # fitting the model to RFE \n",
    "    rfe = RFE(model, n)\n",
    "    fit= rfe.fit(X_train, Y_train)\n",
    "    \n",
    "    # transform the x inputs based on feature selection\n",
    "    X_train_transformed = rfe.fit_transform(X_train, Y_train)\n",
    "    X_test_transformed = rfe.fit_transform(X_test, Y_test)\n",
    "    \n",
    "    model.fit(X_train_transformed, Y_train)\n",
    "    Y_pred = model.predict(X_test_transformed)\n",
    "    result = f1_score(Y_test, Y_pred, average = 'micro')\n",
    "    ranks = fit.ranking_\n",
    "    \n",
    "    return [ranks, result]"
   ]
  },
  {
   "cell_type": "code",
   "execution_count": 69,
   "metadata": {},
   "outputs": [],
   "source": [
    "# input:\n",
    "# model - the model used for this run\n",
    "# X_train, X_test: the transformed X_training and testing dataset from the result of recursive feature elimination\n",
    "# Output: the F1 score for the current run\n",
    "def selection_df(model, m, X_train, X_test, Y_train, Y_test):\n",
    "    columns = list(range(2))\n",
    "    index = list(range(m+1)[1:])\n",
    "    df = pd.DataFrame(columns = columns, index = index)\n",
    "    df = df.fillna(\"NA\")\n",
    "    \n",
    "    for i in range(1, m+1):\n",
    "        rank, result = rfe_selection(model, i, X_train, X_test, Y_train, Y_test)\n",
    "    \n",
    "        df.iloc[i-1,0] = rank\n",
    "        df.iloc[i-1,1] = result\n",
    "    \n",
    "    return df"
   ]
  },
  {
   "cell_type": "code",
   "execution_count": 70,
   "metadata": {},
   "outputs": [
    {
     "name": "stderr",
     "output_type": "stream",
     "text": [
      "/anaconda3/lib/python3.5/site-packages/sklearn/utils/validation.py:578: DataConversionWarning: A column-vector y was passed when a 1d array was expected. Please change the shape of y to (n_samples, ), for example using ravel().\n",
      "  y = column_or_1d(y, warn=True)\n",
      "/anaconda3/lib/python3.5/site-packages/sklearn/utils/validation.py:578: DataConversionWarning: A column-vector y was passed when a 1d array was expected. Please change the shape of y to (n_samples, ), for example using ravel().\n",
      "  y = column_or_1d(y, warn=True)\n",
      "/anaconda3/lib/python3.5/site-packages/sklearn/utils/validation.py:578: DataConversionWarning: A column-vector y was passed when a 1d array was expected. Please change the shape of y to (n_samples, ), for example using ravel().\n",
      "  y = column_or_1d(y, warn=True)\n",
      "/anaconda3/lib/python3.5/site-packages/ipykernel_launcher.py:15: DataConversionWarning: A column-vector y was passed when a 1d array was expected. Please change the shape of y to (n_samples,), for example using ravel().\n",
      "  from ipykernel import kernelapp as app\n",
      "/anaconda3/lib/python3.5/site-packages/sklearn/utils/validation.py:578: DataConversionWarning: A column-vector y was passed when a 1d array was expected. Please change the shape of y to (n_samples, ), for example using ravel().\n",
      "  y = column_or_1d(y, warn=True)\n",
      "/anaconda3/lib/python3.5/site-packages/sklearn/utils/validation.py:578: DataConversionWarning: A column-vector y was passed when a 1d array was expected. Please change the shape of y to (n_samples, ), for example using ravel().\n",
      "  y = column_or_1d(y, warn=True)\n",
      "/anaconda3/lib/python3.5/site-packages/sklearn/utils/validation.py:578: DataConversionWarning: A column-vector y was passed when a 1d array was expected. Please change the shape of y to (n_samples, ), for example using ravel().\n",
      "  y = column_or_1d(y, warn=True)\n",
      "/anaconda3/lib/python3.5/site-packages/ipykernel_launcher.py:15: DataConversionWarning: A column-vector y was passed when a 1d array was expected. Please change the shape of y to (n_samples,), for example using ravel().\n",
      "  from ipykernel import kernelapp as app\n",
      "/anaconda3/lib/python3.5/site-packages/sklearn/utils/validation.py:578: DataConversionWarning: A column-vector y was passed when a 1d array was expected. Please change the shape of y to (n_samples, ), for example using ravel().\n",
      "  y = column_or_1d(y, warn=True)\n",
      "/anaconda3/lib/python3.5/site-packages/sklearn/utils/validation.py:578: DataConversionWarning: A column-vector y was passed when a 1d array was expected. Please change the shape of y to (n_samples, ), for example using ravel().\n",
      "  y = column_or_1d(y, warn=True)\n",
      "/anaconda3/lib/python3.5/site-packages/sklearn/utils/validation.py:578: DataConversionWarning: A column-vector y was passed when a 1d array was expected. Please change the shape of y to (n_samples, ), for example using ravel().\n",
      "  y = column_or_1d(y, warn=True)\n",
      "/anaconda3/lib/python3.5/site-packages/ipykernel_launcher.py:15: DataConversionWarning: A column-vector y was passed when a 1d array was expected. Please change the shape of y to (n_samples,), for example using ravel().\n",
      "  from ipykernel import kernelapp as app\n",
      "/anaconda3/lib/python3.5/site-packages/sklearn/utils/validation.py:578: DataConversionWarning: A column-vector y was passed when a 1d array was expected. Please change the shape of y to (n_samples, ), for example using ravel().\n",
      "  y = column_or_1d(y, warn=True)\n",
      "/anaconda3/lib/python3.5/site-packages/sklearn/utils/validation.py:578: DataConversionWarning: A column-vector y was passed when a 1d array was expected. Please change the shape of y to (n_samples, ), for example using ravel().\n",
      "  y = column_or_1d(y, warn=True)\n",
      "/anaconda3/lib/python3.5/site-packages/sklearn/utils/validation.py:578: DataConversionWarning: A column-vector y was passed when a 1d array was expected. Please change the shape of y to (n_samples, ), for example using ravel().\n",
      "  y = column_or_1d(y, warn=True)\n",
      "/anaconda3/lib/python3.5/site-packages/ipykernel_launcher.py:15: DataConversionWarning: A column-vector y was passed when a 1d array was expected. Please change the shape of y to (n_samples,), for example using ravel().\n",
      "  from ipykernel import kernelapp as app\n",
      "/anaconda3/lib/python3.5/site-packages/sklearn/utils/validation.py:578: DataConversionWarning: A column-vector y was passed when a 1d array was expected. Please change the shape of y to (n_samples, ), for example using ravel().\n",
      "  y = column_or_1d(y, warn=True)\n",
      "/anaconda3/lib/python3.5/site-packages/sklearn/utils/validation.py:578: DataConversionWarning: A column-vector y was passed when a 1d array was expected. Please change the shape of y to (n_samples, ), for example using ravel().\n",
      "  y = column_or_1d(y, warn=True)\n",
      "/anaconda3/lib/python3.5/site-packages/sklearn/utils/validation.py:578: DataConversionWarning: A column-vector y was passed when a 1d array was expected. Please change the shape of y to (n_samples, ), for example using ravel().\n",
      "  y = column_or_1d(y, warn=True)\n",
      "/anaconda3/lib/python3.5/site-packages/ipykernel_launcher.py:15: DataConversionWarning: A column-vector y was passed when a 1d array was expected. Please change the shape of y to (n_samples,), for example using ravel().\n",
      "  from ipykernel import kernelapp as app\n",
      "/anaconda3/lib/python3.5/site-packages/sklearn/utils/validation.py:578: DataConversionWarning: A column-vector y was passed when a 1d array was expected. Please change the shape of y to (n_samples, ), for example using ravel().\n",
      "  y = column_or_1d(y, warn=True)\n",
      "/anaconda3/lib/python3.5/site-packages/sklearn/utils/validation.py:578: DataConversionWarning: A column-vector y was passed when a 1d array was expected. Please change the shape of y to (n_samples, ), for example using ravel().\n",
      "  y = column_or_1d(y, warn=True)\n",
      "/anaconda3/lib/python3.5/site-packages/sklearn/utils/validation.py:578: DataConversionWarning: A column-vector y was passed when a 1d array was expected. Please change the shape of y to (n_samples, ), for example using ravel().\n",
      "  y = column_or_1d(y, warn=True)\n",
      "/anaconda3/lib/python3.5/site-packages/ipykernel_launcher.py:15: DataConversionWarning: A column-vector y was passed when a 1d array was expected. Please change the shape of y to (n_samples,), for example using ravel().\n",
      "  from ipykernel import kernelapp as app\n",
      "/anaconda3/lib/python3.5/site-packages/sklearn/utils/validation.py:578: DataConversionWarning: A column-vector y was passed when a 1d array was expected. Please change the shape of y to (n_samples, ), for example using ravel().\n",
      "  y = column_or_1d(y, warn=True)\n",
      "/anaconda3/lib/python3.5/site-packages/sklearn/utils/validation.py:578: DataConversionWarning: A column-vector y was passed when a 1d array was expected. Please change the shape of y to (n_samples, ), for example using ravel().\n",
      "  y = column_or_1d(y, warn=True)\n",
      "/anaconda3/lib/python3.5/site-packages/sklearn/utils/validation.py:578: DataConversionWarning: A column-vector y was passed when a 1d array was expected. Please change the shape of y to (n_samples, ), for example using ravel().\n",
      "  y = column_or_1d(y, warn=True)\n",
      "/anaconda3/lib/python3.5/site-packages/ipykernel_launcher.py:15: DataConversionWarning: A column-vector y was passed when a 1d array was expected. Please change the shape of y to (n_samples,), for example using ravel().\n",
      "  from ipykernel import kernelapp as app\n",
      "/anaconda3/lib/python3.5/site-packages/sklearn/utils/validation.py:578: DataConversionWarning: A column-vector y was passed when a 1d array was expected. Please change the shape of y to (n_samples, ), for example using ravel().\n",
      "  y = column_or_1d(y, warn=True)\n",
      "/anaconda3/lib/python3.5/site-packages/sklearn/utils/validation.py:578: DataConversionWarning: A column-vector y was passed when a 1d array was expected. Please change the shape of y to (n_samples, ), for example using ravel().\n",
      "  y = column_or_1d(y, warn=True)\n",
      "/anaconda3/lib/python3.5/site-packages/sklearn/utils/validation.py:578: DataConversionWarning: A column-vector y was passed when a 1d array was expected. Please change the shape of y to (n_samples, ), for example using ravel().\n",
      "  y = column_or_1d(y, warn=True)\n",
      "/anaconda3/lib/python3.5/site-packages/ipykernel_launcher.py:15: DataConversionWarning: A column-vector y was passed when a 1d array was expected. Please change the shape of y to (n_samples,), for example using ravel().\n",
      "  from ipykernel import kernelapp as app\n"
     ]
    },
    {
     "name": "stderr",
     "output_type": "stream",
     "text": [
      "/anaconda3/lib/python3.5/site-packages/sklearn/utils/validation.py:578: DataConversionWarning: A column-vector y was passed when a 1d array was expected. Please change the shape of y to (n_samples, ), for example using ravel().\n",
      "  y = column_or_1d(y, warn=True)\n",
      "/anaconda3/lib/python3.5/site-packages/sklearn/utils/validation.py:578: DataConversionWarning: A column-vector y was passed when a 1d array was expected. Please change the shape of y to (n_samples, ), for example using ravel().\n",
      "  y = column_or_1d(y, warn=True)\n",
      "/anaconda3/lib/python3.5/site-packages/sklearn/utils/validation.py:578: DataConversionWarning: A column-vector y was passed when a 1d array was expected. Please change the shape of y to (n_samples, ), for example using ravel().\n",
      "  y = column_or_1d(y, warn=True)\n",
      "/anaconda3/lib/python3.5/site-packages/ipykernel_launcher.py:15: DataConversionWarning: A column-vector y was passed when a 1d array was expected. Please change the shape of y to (n_samples,), for example using ravel().\n",
      "  from ipykernel import kernelapp as app\n",
      "/anaconda3/lib/python3.5/site-packages/sklearn/utils/validation.py:578: DataConversionWarning: A column-vector y was passed when a 1d array was expected. Please change the shape of y to (n_samples, ), for example using ravel().\n",
      "  y = column_or_1d(y, warn=True)\n",
      "/anaconda3/lib/python3.5/site-packages/sklearn/utils/validation.py:578: DataConversionWarning: A column-vector y was passed when a 1d array was expected. Please change the shape of y to (n_samples, ), for example using ravel().\n",
      "  y = column_or_1d(y, warn=True)\n",
      "/anaconda3/lib/python3.5/site-packages/sklearn/utils/validation.py:578: DataConversionWarning: A column-vector y was passed when a 1d array was expected. Please change the shape of y to (n_samples, ), for example using ravel().\n",
      "  y = column_or_1d(y, warn=True)\n",
      "/anaconda3/lib/python3.5/site-packages/ipykernel_launcher.py:15: DataConversionWarning: A column-vector y was passed when a 1d array was expected. Please change the shape of y to (n_samples,), for example using ravel().\n",
      "  from ipykernel import kernelapp as app\n",
      "/anaconda3/lib/python3.5/site-packages/sklearn/utils/validation.py:578: DataConversionWarning: A column-vector y was passed when a 1d array was expected. Please change the shape of y to (n_samples, ), for example using ravel().\n",
      "  y = column_or_1d(y, warn=True)\n",
      "/anaconda3/lib/python3.5/site-packages/sklearn/utils/validation.py:578: DataConversionWarning: A column-vector y was passed when a 1d array was expected. Please change the shape of y to (n_samples, ), for example using ravel().\n",
      "  y = column_or_1d(y, warn=True)\n",
      "/anaconda3/lib/python3.5/site-packages/sklearn/utils/validation.py:578: DataConversionWarning: A column-vector y was passed when a 1d array was expected. Please change the shape of y to (n_samples, ), for example using ravel().\n",
      "  y = column_or_1d(y, warn=True)\n",
      "/anaconda3/lib/python3.5/site-packages/ipykernel_launcher.py:15: DataConversionWarning: A column-vector y was passed when a 1d array was expected. Please change the shape of y to (n_samples,), for example using ravel().\n",
      "  from ipykernel import kernelapp as app\n",
      "/anaconda3/lib/python3.5/site-packages/sklearn/utils/validation.py:578: DataConversionWarning: A column-vector y was passed when a 1d array was expected. Please change the shape of y to (n_samples, ), for example using ravel().\n",
      "  y = column_or_1d(y, warn=True)\n",
      "/anaconda3/lib/python3.5/site-packages/sklearn/utils/validation.py:578: DataConversionWarning: A column-vector y was passed when a 1d array was expected. Please change the shape of y to (n_samples, ), for example using ravel().\n",
      "  y = column_or_1d(y, warn=True)\n",
      "/anaconda3/lib/python3.5/site-packages/sklearn/utils/validation.py:578: DataConversionWarning: A column-vector y was passed when a 1d array was expected. Please change the shape of y to (n_samples, ), for example using ravel().\n",
      "  y = column_or_1d(y, warn=True)\n",
      "/anaconda3/lib/python3.5/site-packages/ipykernel_launcher.py:15: DataConversionWarning: A column-vector y was passed when a 1d array was expected. Please change the shape of y to (n_samples,), for example using ravel().\n",
      "  from ipykernel import kernelapp as app\n",
      "/anaconda3/lib/python3.5/site-packages/sklearn/utils/validation.py:578: DataConversionWarning: A column-vector y was passed when a 1d array was expected. Please change the shape of y to (n_samples, ), for example using ravel().\n",
      "  y = column_or_1d(y, warn=True)\n",
      "/anaconda3/lib/python3.5/site-packages/sklearn/utils/validation.py:578: DataConversionWarning: A column-vector y was passed when a 1d array was expected. Please change the shape of y to (n_samples, ), for example using ravel().\n",
      "  y = column_or_1d(y, warn=True)\n",
      "/anaconda3/lib/python3.5/site-packages/sklearn/utils/validation.py:578: DataConversionWarning: A column-vector y was passed when a 1d array was expected. Please change the shape of y to (n_samples, ), for example using ravel().\n",
      "  y = column_or_1d(y, warn=True)\n",
      "/anaconda3/lib/python3.5/site-packages/ipykernel_launcher.py:15: DataConversionWarning: A column-vector y was passed when a 1d array was expected. Please change the shape of y to (n_samples,), for example using ravel().\n",
      "  from ipykernel import kernelapp as app\n",
      "/anaconda3/lib/python3.5/site-packages/sklearn/utils/validation.py:578: DataConversionWarning: A column-vector y was passed when a 1d array was expected. Please change the shape of y to (n_samples, ), for example using ravel().\n",
      "  y = column_or_1d(y, warn=True)\n",
      "/anaconda3/lib/python3.5/site-packages/sklearn/utils/validation.py:578: DataConversionWarning: A column-vector y was passed when a 1d array was expected. Please change the shape of y to (n_samples, ), for example using ravel().\n",
      "  y = column_or_1d(y, warn=True)\n",
      "/anaconda3/lib/python3.5/site-packages/sklearn/utils/validation.py:578: DataConversionWarning: A column-vector y was passed when a 1d array was expected. Please change the shape of y to (n_samples, ), for example using ravel().\n",
      "  y = column_or_1d(y, warn=True)\n",
      "/anaconda3/lib/python3.5/site-packages/ipykernel_launcher.py:15: DataConversionWarning: A column-vector y was passed when a 1d array was expected. Please change the shape of y to (n_samples,), for example using ravel().\n",
      "  from ipykernel import kernelapp as app\n",
      "/anaconda3/lib/python3.5/site-packages/sklearn/utils/validation.py:578: DataConversionWarning: A column-vector y was passed when a 1d array was expected. Please change the shape of y to (n_samples, ), for example using ravel().\n",
      "  y = column_or_1d(y, warn=True)\n",
      "/anaconda3/lib/python3.5/site-packages/sklearn/utils/validation.py:578: DataConversionWarning: A column-vector y was passed when a 1d array was expected. Please change the shape of y to (n_samples, ), for example using ravel().\n",
      "  y = column_or_1d(y, warn=True)\n",
      "/anaconda3/lib/python3.5/site-packages/sklearn/utils/validation.py:578: DataConversionWarning: A column-vector y was passed when a 1d array was expected. Please change the shape of y to (n_samples, ), for example using ravel().\n",
      "  y = column_or_1d(y, warn=True)\n",
      "/anaconda3/lib/python3.5/site-packages/ipykernel_launcher.py:15: DataConversionWarning: A column-vector y was passed when a 1d array was expected. Please change the shape of y to (n_samples,), for example using ravel().\n",
      "  from ipykernel import kernelapp as app\n",
      "/anaconda3/lib/python3.5/site-packages/sklearn/utils/validation.py:578: DataConversionWarning: A column-vector y was passed when a 1d array was expected. Please change the shape of y to (n_samples, ), for example using ravel().\n",
      "  y = column_or_1d(y, warn=True)\n",
      "/anaconda3/lib/python3.5/site-packages/sklearn/utils/validation.py:578: DataConversionWarning: A column-vector y was passed when a 1d array was expected. Please change the shape of y to (n_samples, ), for example using ravel().\n",
      "  y = column_or_1d(y, warn=True)\n",
      "/anaconda3/lib/python3.5/site-packages/sklearn/utils/validation.py:578: DataConversionWarning: A column-vector y was passed when a 1d array was expected. Please change the shape of y to (n_samples, ), for example using ravel().\n",
      "  y = column_or_1d(y, warn=True)\n",
      "/anaconda3/lib/python3.5/site-packages/ipykernel_launcher.py:15: DataConversionWarning: A column-vector y was passed when a 1d array was expected. Please change the shape of y to (n_samples,), for example using ravel().\n",
      "  from ipykernel import kernelapp as app\n"
     ]
    },
    {
     "name": "stderr",
     "output_type": "stream",
     "text": [
      "/anaconda3/lib/python3.5/site-packages/sklearn/utils/validation.py:578: DataConversionWarning: A column-vector y was passed when a 1d array was expected. Please change the shape of y to (n_samples, ), for example using ravel().\n",
      "  y = column_or_1d(y, warn=True)\n",
      "/anaconda3/lib/python3.5/site-packages/sklearn/utils/validation.py:578: DataConversionWarning: A column-vector y was passed when a 1d array was expected. Please change the shape of y to (n_samples, ), for example using ravel().\n",
      "  y = column_or_1d(y, warn=True)\n",
      "/anaconda3/lib/python3.5/site-packages/sklearn/utils/validation.py:578: DataConversionWarning: A column-vector y was passed when a 1d array was expected. Please change the shape of y to (n_samples, ), for example using ravel().\n",
      "  y = column_or_1d(y, warn=True)\n",
      "/anaconda3/lib/python3.5/site-packages/ipykernel_launcher.py:15: DataConversionWarning: A column-vector y was passed when a 1d array was expected. Please change the shape of y to (n_samples,), for example using ravel().\n",
      "  from ipykernel import kernelapp as app\n",
      "/anaconda3/lib/python3.5/site-packages/sklearn/utils/validation.py:578: DataConversionWarning: A column-vector y was passed when a 1d array was expected. Please change the shape of y to (n_samples, ), for example using ravel().\n",
      "  y = column_or_1d(y, warn=True)\n",
      "/anaconda3/lib/python3.5/site-packages/sklearn/utils/validation.py:578: DataConversionWarning: A column-vector y was passed when a 1d array was expected. Please change the shape of y to (n_samples, ), for example using ravel().\n",
      "  y = column_or_1d(y, warn=True)\n",
      "/anaconda3/lib/python3.5/site-packages/sklearn/utils/validation.py:578: DataConversionWarning: A column-vector y was passed when a 1d array was expected. Please change the shape of y to (n_samples, ), for example using ravel().\n",
      "  y = column_or_1d(y, warn=True)\n",
      "/anaconda3/lib/python3.5/site-packages/ipykernel_launcher.py:15: DataConversionWarning: A column-vector y was passed when a 1d array was expected. Please change the shape of y to (n_samples,), for example using ravel().\n",
      "  from ipykernel import kernelapp as app\n"
     ]
    }
   ],
   "source": [
    "rf = RandomForestClassifier()\n",
    "df_rf = selection_df(rf, 18, X_mid, X_test, Y_mid, Y_test)"
   ]
  },
  {
   "cell_type": "code",
   "execution_count": 71,
   "metadata": {},
   "outputs": [
    {
     "data": {
      "text/html": [
       "<div>\n",
       "<style scoped>\n",
       "    .dataframe tbody tr th:only-of-type {\n",
       "        vertical-align: middle;\n",
       "    }\n",
       "\n",
       "    .dataframe tbody tr th {\n",
       "        vertical-align: top;\n",
       "    }\n",
       "\n",
       "    .dataframe thead th {\n",
       "        text-align: right;\n",
       "    }\n",
       "</style>\n",
       "<table border=\"1\" class=\"dataframe\">\n",
       "  <thead>\n",
       "    <tr style=\"text-align: right;\">\n",
       "      <th></th>\n",
       "      <th>0</th>\n",
       "      <th>1</th>\n",
       "    </tr>\n",
       "  </thead>\n",
       "  <tbody>\n",
       "    <tr>\n",
       "      <th>1</th>\n",
       "      <td>[6, 7, 8, 5, 14, 9, 13, 10, 11, 17, 15, 2, 1, ...</td>\n",
       "      <td>0.323827</td>\n",
       "    </tr>\n",
       "    <tr>\n",
       "      <th>2</th>\n",
       "      <td>[5, 4, 8, 6, 12, 7, 13, 9, 10, 16, 14, 1, 1, 3...</td>\n",
       "      <td>0.466623</td>\n",
       "    </tr>\n",
       "    <tr>\n",
       "      <th>3</th>\n",
       "      <td>[4, 3, 6, 5, 11, 7, 10, 8, 9, 13, 12, 1, 1, 2,...</td>\n",
       "      <td>0.541638</td>\n",
       "    </tr>\n",
       "    <tr>\n",
       "      <th>4</th>\n",
       "      <td>[4, 2, 5, 3, 8, 6, 10, 7, 9, 14, 11, 1, 1, 1, ...</td>\n",
       "      <td>0.564677</td>\n",
       "    </tr>\n",
       "    <tr>\n",
       "      <th>5</th>\n",
       "      <td>[5, 2, 4, 1, 9, 3, 8, 6, 7, 13, 11, 1, 1, 1, 1...</td>\n",
       "      <td>0.469457</td>\n",
       "    </tr>\n",
       "    <tr>\n",
       "      <th>6</th>\n",
       "      <td>[1, 2, 4, 1, 9, 3, 7, 5, 6, 11, 8, 1, 1, 1, 1,...</td>\n",
       "      <td>0.555623</td>\n",
       "    </tr>\n",
       "    <tr>\n",
       "      <th>7</th>\n",
       "      <td>[1, 1, 2, 1, 5, 3, 7, 4, 6, 8, 11, 1, 1, 1, 1,...</td>\n",
       "      <td>0.630852</td>\n",
       "    </tr>\n",
       "    <tr>\n",
       "      <th>8</th>\n",
       "      <td>[1, 1, 2, 1, 5, 1, 6, 3, 4, 10, 8, 1, 1, 1, 1,...</td>\n",
       "      <td>0.575378</td>\n",
       "    </tr>\n",
       "    <tr>\n",
       "      <th>9</th>\n",
       "      <td>[1, 1, 1, 1, 6, 1, 4, 2, 5, 8, 7, 1, 1, 1, 1, ...</td>\n",
       "      <td>0.578923</td>\n",
       "    </tr>\n",
       "    <tr>\n",
       "      <th>10</th>\n",
       "      <td>[1, 1, 1, 1, 4, 1, 3, 2, 1, 7, 6, 1, 1, 1, 1, ...</td>\n",
       "      <td>0.61342</td>\n",
       "    </tr>\n",
       "    <tr>\n",
       "      <th>11</th>\n",
       "      <td>[1, 1, 1, 1, 3, 1, 2, 1, 1, 7, 5, 1, 1, 1, 1, ...</td>\n",
       "      <td>0.646826</td>\n",
       "    </tr>\n",
       "    <tr>\n",
       "      <th>12</th>\n",
       "      <td>[1, 1, 1, 1, 1, 1, 2, 1, 1, 6, 4, 1, 1, 1, 1, ...</td>\n",
       "      <td>0.614864</td>\n",
       "    </tr>\n",
       "    <tr>\n",
       "      <th>13</th>\n",
       "      <td>[1, 1, 1, 1, 1, 1, 1, 1, 1, 5, 2, 1, 1, 1, 1, ...</td>\n",
       "      <td>0.613481</td>\n",
       "    </tr>\n",
       "    <tr>\n",
       "      <th>14</th>\n",
       "      <td>[1, 1, 1, 1, 1, 1, 1, 1, 1, 3, 2, 1, 1, 1, 1, ...</td>\n",
       "      <td>0.615122</td>\n",
       "    </tr>\n",
       "    <tr>\n",
       "      <th>15</th>\n",
       "      <td>[1, 1, 1, 1, 1, 1, 1, 1, 1, 2, 1, 1, 1, 1, 1, ...</td>\n",
       "      <td>0.614743</td>\n",
       "    </tr>\n",
       "    <tr>\n",
       "      <th>16</th>\n",
       "      <td>[1, 1, 1, 1, 1, 1, 1, 1, 1, 2, 1, 1, 1, 1, 1, ...</td>\n",
       "      <td>0.726685</td>\n",
       "    </tr>\n",
       "    <tr>\n",
       "      <th>17</th>\n",
       "      <td>[1, 1, 1, 1, 1, 1, 1, 1, 1, 1, 1, 1, 1, 1, 1, ...</td>\n",
       "      <td>0.586977</td>\n",
       "    </tr>\n",
       "    <tr>\n",
       "      <th>18</th>\n",
       "      <td>[1, 1, 1, 1, 1, 1, 1, 1, 1, 1, 1, 1, 1, 1, 1, ...</td>\n",
       "      <td>0.587433</td>\n",
       "    </tr>\n",
       "  </tbody>\n",
       "</table>\n",
       "</div>"
      ],
      "text/plain": [
       "                                                    0         1\n",
       "1   [6, 7, 8, 5, 14, 9, 13, 10, 11, 17, 15, 2, 1, ...  0.323827\n",
       "2   [5, 4, 8, 6, 12, 7, 13, 9, 10, 16, 14, 1, 1, 3...  0.466623\n",
       "3   [4, 3, 6, 5, 11, 7, 10, 8, 9, 13, 12, 1, 1, 2,...  0.541638\n",
       "4   [4, 2, 5, 3, 8, 6, 10, 7, 9, 14, 11, 1, 1, 1, ...  0.564677\n",
       "5   [5, 2, 4, 1, 9, 3, 8, 6, 7, 13, 11, 1, 1, 1, 1...  0.469457\n",
       "6   [1, 2, 4, 1, 9, 3, 7, 5, 6, 11, 8, 1, 1, 1, 1,...  0.555623\n",
       "7   [1, 1, 2, 1, 5, 3, 7, 4, 6, 8, 11, 1, 1, 1, 1,...  0.630852\n",
       "8   [1, 1, 2, 1, 5, 1, 6, 3, 4, 10, 8, 1, 1, 1, 1,...  0.575378\n",
       "9   [1, 1, 1, 1, 6, 1, 4, 2, 5, 8, 7, 1, 1, 1, 1, ...  0.578923\n",
       "10  [1, 1, 1, 1, 4, 1, 3, 2, 1, 7, 6, 1, 1, 1, 1, ...   0.61342\n",
       "11  [1, 1, 1, 1, 3, 1, 2, 1, 1, 7, 5, 1, 1, 1, 1, ...  0.646826\n",
       "12  [1, 1, 1, 1, 1, 1, 2, 1, 1, 6, 4, 1, 1, 1, 1, ...  0.614864\n",
       "13  [1, 1, 1, 1, 1, 1, 1, 1, 1, 5, 2, 1, 1, 1, 1, ...  0.613481\n",
       "14  [1, 1, 1, 1, 1, 1, 1, 1, 1, 3, 2, 1, 1, 1, 1, ...  0.615122\n",
       "15  [1, 1, 1, 1, 1, 1, 1, 1, 1, 2, 1, 1, 1, 1, 1, ...  0.614743\n",
       "16  [1, 1, 1, 1, 1, 1, 1, 1, 1, 2, 1, 1, 1, 1, 1, ...  0.726685\n",
       "17  [1, 1, 1, 1, 1, 1, 1, 1, 1, 1, 1, 1, 1, 1, 1, ...  0.586977\n",
       "18  [1, 1, 1, 1, 1, 1, 1, 1, 1, 1, 1, 1, 1, 1, 1, ...  0.587433"
      ]
     },
     "execution_count": 71,
     "metadata": {},
     "output_type": "execute_result"
    }
   ],
   "source": [
    "df_rf"
   ]
  },
  {
   "cell_type": "code",
   "execution_count": 79,
   "metadata": {},
   "outputs": [],
   "source": [
    "max_row = np.argmax(df_rf.iloc[:,1].values) + 1"
   ]
  },
  {
   "cell_type": "code",
   "execution_count": 80,
   "metadata": {},
   "outputs": [
    {
     "name": "stdout",
     "output_type": "stream",
     "text": [
      "The optimal number of parameters chosen is  15\n"
     ]
    },
    {
     "name": "stderr",
     "output_type": "stream",
     "text": [
      "/anaconda3/lib/python3.5/site-packages/sklearn/utils/validation.py:578: DataConversionWarning: A column-vector y was passed when a 1d array was expected. Please change the shape of y to (n_samples, ), for example using ravel().\n",
      "  y = column_or_1d(y, warn=True)\n",
      "/anaconda3/lib/python3.5/site-packages/sklearn/utils/validation.py:578: DataConversionWarning: A column-vector y was passed when a 1d array was expected. Please change the shape of y to (n_samples, ), for example using ravel().\n",
      "  y = column_or_1d(y, warn=True)\n",
      "/anaconda3/lib/python3.5/site-packages/sklearn/utils/validation.py:578: DataConversionWarning: A column-vector y was passed when a 1d array was expected. Please change the shape of y to (n_samples, ), for example using ravel().\n",
      "  y = column_or_1d(y, warn=True)\n",
      "/anaconda3/lib/python3.5/site-packages/ipykernel_launcher.py:14: DataConversionWarning: A column-vector y was passed when a 1d array was expected. Please change the shape of y to (n_samples,), for example using ravel().\n",
      "  \n"
     ]
    }
   ],
   "source": [
    "rf = RandomForestClassifier()\n",
    "# max_row = np.argmax(df_rf.iloc[:,1].values) + 1\n",
    "max_row = 15\n",
    "print ('The optimal number of parameters chosen is ', max_row)\n",
    "\n",
    "# fitting the model to RFE \n",
    "rfe = RFE(rf, max_row)\n",
    "fit= rfe.fit(X_mid, Y_mid)\n",
    "    \n",
    "# transform the x inputs based on feature selection\n",
    "X_train_transformed = rfe.fit_transform(X_mid, Y_mid)\n",
    "X_test_transformed = rfe.fit_transform(X_test, Y_test)\n",
    "    \n",
    "rf.fit(X_train_transformed, Y_mid)\n",
    "Y_pred = rf.predict(X_test_transformed)\n",
    "result = f1_score(Y_test, Y_pred, average = 'micro')"
   ]
  },
  {
   "cell_type": "markdown",
   "metadata": {},
   "source": [
    "<div class=\"alert alert-block alert-info\">\n",
    "From the result, the best performing model is achieved when the top 11 features are selected and the F1 score is as following:\n",
    "</div>"
   ]
  },
  {
   "cell_type": "code",
   "execution_count": 81,
   "metadata": {},
   "outputs": [
    {
     "name": "stdout",
     "output_type": "stream",
     "text": [
      "0.5869291645174304\n"
     ]
    }
   ],
   "source": [
    "print (result)"
   ]
  },
  {
   "cell_type": "markdown",
   "metadata": {},
   "source": [
    "## 6.4 Hyperparameter Tuning"
   ]
  },
  {
   "cell_type": "markdown",
   "metadata": {},
   "source": [
    "<div class=\"alert alert-block alert-info\">\n",
    "In this section, with the refined training dataset, we will then move on to finetune the hyperparameters in the model. We will use grid search with a range of variables to be selected for each hyperparamter and locate the most optimal combination for the hyperparamter that gives the best perfomring prediction model.\n",
    "</div>"
   ]
  },
  {
   "cell_type": "code",
   "execution_count": 82,
   "metadata": {},
   "outputs": [
    {
     "data": {
      "text/plain": [
       "{'bootstrap': True,\n",
       " 'class_weight': None,\n",
       " 'criterion': 'gini',\n",
       " 'max_depth': None,\n",
       " 'max_features': 'auto',\n",
       " 'max_leaf_nodes': None,\n",
       " 'min_impurity_decrease': 0.0,\n",
       " 'min_impurity_split': None,\n",
       " 'min_samples_leaf': 1,\n",
       " 'min_samples_split': 2,\n",
       " 'min_weight_fraction_leaf': 0.0,\n",
       " 'n_estimators': 10,\n",
       " 'n_jobs': 1,\n",
       " 'oob_score': False,\n",
       " 'random_state': None,\n",
       " 'verbose': 0,\n",
       " 'warm_start': False}"
      ]
     },
     "execution_count": 82,
     "metadata": {},
     "output_type": "execute_result"
    }
   ],
   "source": [
    "# getting the current parameters\n",
    "rf.get_params()"
   ]
  },
  {
   "cell_type": "code",
   "execution_count": 83,
   "metadata": {},
   "outputs": [
    {
     "name": "stdout",
     "output_type": "stream",
     "text": [
      "Fitting 3 folds for each of 10 candidates, totalling 30 fits\n",
      "[CV] min_samples_split=12, max_features=5, bootstrap=True, max_depth=100, min_samples_leaf=5, n_estimators=300 \n",
      "[CV] min_samples_split=12, max_features=5, bootstrap=True, max_depth=100, min_samples_leaf=5, n_estimators=300 \n",
      "[CV] min_samples_split=12, max_features=5, bootstrap=True, max_depth=100, min_samples_leaf=5, n_estimators=300 \n",
      "[CV] min_samples_split=10, max_features=4, bootstrap=True, max_depth=80, min_samples_leaf=5, n_estimators=300 \n"
     ]
    },
    {
     "name": "stderr",
     "output_type": "stream",
     "text": [
      "/anaconda3/lib/python3.5/site-packages/sklearn/model_selection/_validation.py:458: DataConversionWarning: A column-vector y was passed when a 1d array was expected. Please change the shape of y to (n_samples,), for example using ravel().\n",
      "  estimator.fit(X_train, y_train, **fit_params)\n",
      "/anaconda3/lib/python3.5/site-packages/sklearn/model_selection/_validation.py:458: DataConversionWarning: A column-vector y was passed when a 1d array was expected. Please change the shape of y to (n_samples,), for example using ravel().\n",
      "  estimator.fit(X_train, y_train, **fit_params)\n",
      "/anaconda3/lib/python3.5/site-packages/sklearn/model_selection/_validation.py:458: DataConversionWarning: A column-vector y was passed when a 1d array was expected. Please change the shape of y to (n_samples,), for example using ravel().\n",
      "  estimator.fit(X_train, y_train, **fit_params)\n",
      "/anaconda3/lib/python3.5/site-packages/sklearn/model_selection/_validation.py:458: DataConversionWarning: A column-vector y was passed when a 1d array was expected. Please change the shape of y to (n_samples,), for example using ravel().\n",
      "  estimator.fit(X_train, y_train, **fit_params)\n"
     ]
    },
    {
     "ename": "KeyboardInterrupt",
     "evalue": "",
     "output_type": "error",
     "traceback": [
      "\u001b[0;31m---------------------------------------------------------------------------\u001b[0m",
      "\u001b[0;31mKeyboardInterrupt\u001b[0m                         Traceback (most recent call last)",
      "\u001b[0;32m<ipython-input-83-5ecfafaa3497>\u001b[0m in \u001b[0;36m<module>\u001b[0;34m()\u001b[0m\n\u001b[1;32m     14\u001b[0m                           scoring = 'f1_micro', cv = 3, n_jobs = -1, verbose = 2)\n\u001b[1;32m     15\u001b[0m \u001b[0;34m\u001b[0m\u001b[0m\n\u001b[0;32m---> 16\u001b[0;31m \u001b[0mgrid_search\u001b[0m\u001b[0;34m.\u001b[0m\u001b[0mfit\u001b[0m\u001b[0;34m(\u001b[0m\u001b[0mX_train_transformed\u001b[0m\u001b[0;34m,\u001b[0m \u001b[0mY_mid\u001b[0m\u001b[0;34m)\u001b[0m\u001b[0;34m\u001b[0m\u001b[0m\n\u001b[0m",
      "\u001b[0;32m/anaconda3/lib/python3.5/site-packages/sklearn/model_selection/_search.py\u001b[0m in \u001b[0;36mfit\u001b[0;34m(self, X, y, groups, **fit_params)\u001b[0m\n\u001b[1;32m    637\u001b[0m                                   error_score=self.error_score)\n\u001b[1;32m    638\u001b[0m           for parameters, (train, test) in product(candidate_params,\n\u001b[0;32m--> 639\u001b[0;31m                                                    cv.split(X, y, groups)))\n\u001b[0m\u001b[1;32m    640\u001b[0m \u001b[0;34m\u001b[0m\u001b[0m\n\u001b[1;32m    641\u001b[0m         \u001b[0;31m# if one choose to see train score, \"out\" will contain train score info\u001b[0m\u001b[0;34m\u001b[0m\u001b[0;34m\u001b[0m\u001b[0m\n",
      "\u001b[0;32m/anaconda3/lib/python3.5/site-packages/sklearn/externals/joblib/parallel.py\u001b[0m in \u001b[0;36m__call__\u001b[0;34m(self, iterable)\u001b[0m\n\u001b[1;32m    787\u001b[0m                 \u001b[0;31m# consumption.\u001b[0m\u001b[0;34m\u001b[0m\u001b[0;34m\u001b[0m\u001b[0m\n\u001b[1;32m    788\u001b[0m                 \u001b[0mself\u001b[0m\u001b[0;34m.\u001b[0m\u001b[0m_iterating\u001b[0m \u001b[0;34m=\u001b[0m \u001b[0;32mFalse\u001b[0m\u001b[0;34m\u001b[0m\u001b[0m\n\u001b[0;32m--> 789\u001b[0;31m             \u001b[0mself\u001b[0m\u001b[0;34m.\u001b[0m\u001b[0mretrieve\u001b[0m\u001b[0;34m(\u001b[0m\u001b[0;34m)\u001b[0m\u001b[0;34m\u001b[0m\u001b[0m\n\u001b[0m\u001b[1;32m    790\u001b[0m             \u001b[0;31m# Make sure that we get a last message telling us we are done\u001b[0m\u001b[0;34m\u001b[0m\u001b[0;34m\u001b[0m\u001b[0m\n\u001b[1;32m    791\u001b[0m             \u001b[0melapsed_time\u001b[0m \u001b[0;34m=\u001b[0m \u001b[0mtime\u001b[0m\u001b[0;34m.\u001b[0m\u001b[0mtime\u001b[0m\u001b[0;34m(\u001b[0m\u001b[0;34m)\u001b[0m \u001b[0;34m-\u001b[0m \u001b[0mself\u001b[0m\u001b[0;34m.\u001b[0m\u001b[0m_start_time\u001b[0m\u001b[0;34m\u001b[0m\u001b[0m\n",
      "\u001b[0;32m/anaconda3/lib/python3.5/site-packages/sklearn/externals/joblib/parallel.py\u001b[0m in \u001b[0;36mretrieve\u001b[0;34m(self)\u001b[0m\n\u001b[1;32m    697\u001b[0m             \u001b[0;32mtry\u001b[0m\u001b[0;34m:\u001b[0m\u001b[0;34m\u001b[0m\u001b[0m\n\u001b[1;32m    698\u001b[0m                 \u001b[0;32mif\u001b[0m \u001b[0mgetattr\u001b[0m\u001b[0;34m(\u001b[0m\u001b[0mself\u001b[0m\u001b[0;34m.\u001b[0m\u001b[0m_backend\u001b[0m\u001b[0;34m,\u001b[0m \u001b[0;34m'supports_timeout'\u001b[0m\u001b[0;34m,\u001b[0m \u001b[0;32mFalse\u001b[0m\u001b[0;34m)\u001b[0m\u001b[0;34m:\u001b[0m\u001b[0;34m\u001b[0m\u001b[0m\n\u001b[0;32m--> 699\u001b[0;31m                     \u001b[0mself\u001b[0m\u001b[0;34m.\u001b[0m\u001b[0m_output\u001b[0m\u001b[0;34m.\u001b[0m\u001b[0mextend\u001b[0m\u001b[0;34m(\u001b[0m\u001b[0mjob\u001b[0m\u001b[0;34m.\u001b[0m\u001b[0mget\u001b[0m\u001b[0;34m(\u001b[0m\u001b[0mtimeout\u001b[0m\u001b[0;34m=\u001b[0m\u001b[0mself\u001b[0m\u001b[0;34m.\u001b[0m\u001b[0mtimeout\u001b[0m\u001b[0;34m)\u001b[0m\u001b[0;34m)\u001b[0m\u001b[0;34m\u001b[0m\u001b[0m\n\u001b[0m\u001b[1;32m    700\u001b[0m                 \u001b[0;32melse\u001b[0m\u001b[0;34m:\u001b[0m\u001b[0;34m\u001b[0m\u001b[0m\n\u001b[1;32m    701\u001b[0m                     \u001b[0mself\u001b[0m\u001b[0;34m.\u001b[0m\u001b[0m_output\u001b[0m\u001b[0;34m.\u001b[0m\u001b[0mextend\u001b[0m\u001b[0;34m(\u001b[0m\u001b[0mjob\u001b[0m\u001b[0;34m.\u001b[0m\u001b[0mget\u001b[0m\u001b[0;34m(\u001b[0m\u001b[0;34m)\u001b[0m\u001b[0;34m)\u001b[0m\u001b[0;34m\u001b[0m\u001b[0m\n",
      "\u001b[0;32m/anaconda3/lib/python3.5/multiprocessing/pool.py\u001b[0m in \u001b[0;36mget\u001b[0;34m(self, timeout)\u001b[0m\n\u001b[1;32m    636\u001b[0m \u001b[0;34m\u001b[0m\u001b[0m\n\u001b[1;32m    637\u001b[0m     \u001b[0;32mdef\u001b[0m \u001b[0mget\u001b[0m\u001b[0;34m(\u001b[0m\u001b[0mself\u001b[0m\u001b[0;34m,\u001b[0m \u001b[0mtimeout\u001b[0m\u001b[0;34m=\u001b[0m\u001b[0;32mNone\u001b[0m\u001b[0;34m)\u001b[0m\u001b[0;34m:\u001b[0m\u001b[0;34m\u001b[0m\u001b[0m\n\u001b[0;32m--> 638\u001b[0;31m         \u001b[0mself\u001b[0m\u001b[0;34m.\u001b[0m\u001b[0mwait\u001b[0m\u001b[0;34m(\u001b[0m\u001b[0mtimeout\u001b[0m\u001b[0;34m)\u001b[0m\u001b[0;34m\u001b[0m\u001b[0m\n\u001b[0m\u001b[1;32m    639\u001b[0m         \u001b[0;32mif\u001b[0m \u001b[0;32mnot\u001b[0m \u001b[0mself\u001b[0m\u001b[0;34m.\u001b[0m\u001b[0mready\u001b[0m\u001b[0;34m(\u001b[0m\u001b[0;34m)\u001b[0m\u001b[0;34m:\u001b[0m\u001b[0;34m\u001b[0m\u001b[0m\n\u001b[1;32m    640\u001b[0m             \u001b[0;32mraise\u001b[0m \u001b[0mTimeoutError\u001b[0m\u001b[0;34m\u001b[0m\u001b[0m\n",
      "\u001b[0;32m/anaconda3/lib/python3.5/multiprocessing/pool.py\u001b[0m in \u001b[0;36mwait\u001b[0;34m(self, timeout)\u001b[0m\n\u001b[1;32m    633\u001b[0m \u001b[0;34m\u001b[0m\u001b[0m\n\u001b[1;32m    634\u001b[0m     \u001b[0;32mdef\u001b[0m \u001b[0mwait\u001b[0m\u001b[0;34m(\u001b[0m\u001b[0mself\u001b[0m\u001b[0;34m,\u001b[0m \u001b[0mtimeout\u001b[0m\u001b[0;34m=\u001b[0m\u001b[0;32mNone\u001b[0m\u001b[0;34m)\u001b[0m\u001b[0;34m:\u001b[0m\u001b[0;34m\u001b[0m\u001b[0m\n\u001b[0;32m--> 635\u001b[0;31m         \u001b[0mself\u001b[0m\u001b[0;34m.\u001b[0m\u001b[0m_event\u001b[0m\u001b[0;34m.\u001b[0m\u001b[0mwait\u001b[0m\u001b[0;34m(\u001b[0m\u001b[0mtimeout\u001b[0m\u001b[0;34m)\u001b[0m\u001b[0;34m\u001b[0m\u001b[0m\n\u001b[0m\u001b[1;32m    636\u001b[0m \u001b[0;34m\u001b[0m\u001b[0m\n\u001b[1;32m    637\u001b[0m     \u001b[0;32mdef\u001b[0m \u001b[0mget\u001b[0m\u001b[0;34m(\u001b[0m\u001b[0mself\u001b[0m\u001b[0;34m,\u001b[0m \u001b[0mtimeout\u001b[0m\u001b[0;34m=\u001b[0m\u001b[0;32mNone\u001b[0m\u001b[0;34m)\u001b[0m\u001b[0;34m:\u001b[0m\u001b[0;34m\u001b[0m\u001b[0m\n",
      "\u001b[0;32m/anaconda3/lib/python3.5/threading.py\u001b[0m in \u001b[0;36mwait\u001b[0;34m(self, timeout)\u001b[0m\n\u001b[1;32m    547\u001b[0m             \u001b[0msignaled\u001b[0m \u001b[0;34m=\u001b[0m \u001b[0mself\u001b[0m\u001b[0;34m.\u001b[0m\u001b[0m_flag\u001b[0m\u001b[0;34m\u001b[0m\u001b[0m\n\u001b[1;32m    548\u001b[0m             \u001b[0;32mif\u001b[0m \u001b[0;32mnot\u001b[0m \u001b[0msignaled\u001b[0m\u001b[0;34m:\u001b[0m\u001b[0;34m\u001b[0m\u001b[0m\n\u001b[0;32m--> 549\u001b[0;31m                 \u001b[0msignaled\u001b[0m \u001b[0;34m=\u001b[0m \u001b[0mself\u001b[0m\u001b[0;34m.\u001b[0m\u001b[0m_cond\u001b[0m\u001b[0;34m.\u001b[0m\u001b[0mwait\u001b[0m\u001b[0;34m(\u001b[0m\u001b[0mtimeout\u001b[0m\u001b[0;34m)\u001b[0m\u001b[0;34m\u001b[0m\u001b[0m\n\u001b[0m\u001b[1;32m    550\u001b[0m             \u001b[0;32mreturn\u001b[0m \u001b[0msignaled\u001b[0m\u001b[0;34m\u001b[0m\u001b[0m\n\u001b[1;32m    551\u001b[0m \u001b[0;34m\u001b[0m\u001b[0m\n",
      "\u001b[0;32m/anaconda3/lib/python3.5/threading.py\u001b[0m in \u001b[0;36mwait\u001b[0;34m(self, timeout)\u001b[0m\n\u001b[1;32m    291\u001b[0m         \u001b[0;32mtry\u001b[0m\u001b[0;34m:\u001b[0m    \u001b[0;31m# restore state no matter what (e.g., KeyboardInterrupt)\u001b[0m\u001b[0;34m\u001b[0m\u001b[0m\n\u001b[1;32m    292\u001b[0m             \u001b[0;32mif\u001b[0m \u001b[0mtimeout\u001b[0m \u001b[0;32mis\u001b[0m \u001b[0;32mNone\u001b[0m\u001b[0;34m:\u001b[0m\u001b[0;34m\u001b[0m\u001b[0m\n\u001b[0;32m--> 293\u001b[0;31m                 \u001b[0mwaiter\u001b[0m\u001b[0;34m.\u001b[0m\u001b[0macquire\u001b[0m\u001b[0;34m(\u001b[0m\u001b[0;34m)\u001b[0m\u001b[0;34m\u001b[0m\u001b[0m\n\u001b[0m\u001b[1;32m    294\u001b[0m                 \u001b[0mgotit\u001b[0m \u001b[0;34m=\u001b[0m \u001b[0;32mTrue\u001b[0m\u001b[0;34m\u001b[0m\u001b[0m\n\u001b[1;32m    295\u001b[0m             \u001b[0;32melse\u001b[0m\u001b[0;34m:\u001b[0m\u001b[0;34m\u001b[0m\u001b[0m\n",
      "\u001b[0;31mKeyboardInterrupt\u001b[0m: "
     ]
    }
   ],
   "source": [
    "# implement grid search using sklearn library\n",
    "param_grid = {\n",
    "    'bootstrap': [True],\n",
    "    'max_depth': [80, 90, 100, 110],\n",
    "    'max_features': [4, 5],\n",
    "    'min_samples_leaf': [5, 10, 15],\n",
    "    'min_samples_split': [8, 10, 12],\n",
    "    'n_estimators': [100, 200, 300]\n",
    "}\n",
    "# Create a based model\n",
    "random_f = RandomForestClassifier()\n",
    "# Instantiate the grid search model\n",
    "grid_search = RandomizedSearchCV(estimator = random_f, param_distributions = param_grid, \n",
    "                          scoring = 'f1_micro', cv = 3, n_jobs = -1, verbose = 2)\n",
    "\n",
    "grid_search.fit(X_train_transformed, Y_mid)"
   ]
  },
  {
   "cell_type": "code",
   "execution_count": null,
   "metadata": {},
   "outputs": [],
   "source": [
    "grid_search.cv_results_"
   ]
  },
  {
   "cell_type": "code",
   "execution_count": null,
   "metadata": {},
   "outputs": [],
   "source": [
    "grid_search.best_score_"
   ]
  },
  {
   "cell_type": "code",
   "execution_count": null,
   "metadata": {},
   "outputs": [],
   "source": [
    "# the parameters that give the best performing model\n",
    "grid_search.best_params_"
   ]
  },
  {
   "cell_type": "markdown",
   "metadata": {},
   "source": [
    "# 7. Final Model"
   ]
  },
  {
   "cell_type": "code",
   "execution_count": null,
   "metadata": {},
   "outputs": [],
   "source": [
    "def choose_column(df, chosen):\n",
    "    cols = list(df.columns.values)\n",
    "    chosen_cols = []\n",
    "    \n",
    "    for i in range(0, len(chosen)):\n",
    "        if chosen[i] == 1:\n",
    "            chosen_cols.append(cols[i])\n",
    "        \n",
    "    return chosen_cols"
   ]
  },
  {
   "cell_type": "code",
   "execution_count": null,
   "metadata": {},
   "outputs": [],
   "source": [
    "# the parameter used here is the ones found in the previous section\n",
    "rf_optimised = RandomForestClassifier(bootstrap=True, max_depth=100, max_features=5,\n",
    "                                      min_samples_leaf=5, min_samples_split=10, n_estimators=300)\n",
    "\n",
    "rf_optimised.fit(X_train_transformed, Y_mid)\n",
    "Y_pred = rf_optimised.predict(X_test_transformed)\n",
    "result = f1_score(Y_test, Y_pred, average = 'micro')"
   ]
  },
  {
   "cell_type": "code",
   "execution_count": null,
   "metadata": {},
   "outputs": [],
   "source": [
    "# assess the model with F1 score\n",
    "print ('The optimised F1 score is: ', result)"
   ]
  },
  {
   "cell_type": "code",
   "execution_count": null,
   "metadata": {},
   "outputs": [],
   "source": [
    "# assess the model by looking at the confusion matrix\n",
    "confusion_matrix(Y_test, Y_pred)"
   ]
  },
  {
   "cell_type": "code",
   "execution_count": null,
   "metadata": {},
   "outputs": [],
   "source": [
    "import seaborn as sn\n",
    "df_cm = pd.DataFrame(confusion_matrix(Y_test, Y_pred), index = [i for i in \"123\"],\n",
    "                     columns = [i for i in \"123\"])\n",
    "plt.figure(figsize = (10,7))\n",
    "sn.heatmap(df_cm, annot=True)"
   ]
  },
  {
   "cell_type": "markdown",
   "metadata": {},
   "source": [
    "# Conclusion"
   ]
  },
  {
   "cell_type": "markdown",
   "metadata": {},
   "source": [
    "<div class=\"alert alert-block alert-info\">\n",
    "From the result derived in the previous section, we obtain a quite satisfying F1 score which is 80. However, if we drill down further and look at the confusion matrix for the prediction, we realise the accuracy of prediction for severity level 1 and 2 is rather low. There are quite a number of false positive in the prediction result. \n",
    "<br>\n",
    "<br>\n",
    "There are a few reasons that might affect the performance for the model. Firstly, this may be due to the uneven distribution for each severity level. For severity level 1, the test cases are much smaller compared to other severity levels, this will affect the classification model to learn the pattern when predicting for severity level 1 cases. In order to improve the model, we can have more data entries for severity 1. Besides, we realise all the features in the dataset shows low correlation with the target variable, accident severity. We might need to include other features such as the characteristics about drivers that show higher correlation with the target variable to improve the model performance. \n",
    "<br>\n",
    "<br>\n",
    "Once a more accurate prediction model is found, this model can help police force to prioritise their assistance when multiple accidents happened at the same time. More police force can be supplied to cases that are predicted to be more severe. This will serve as a mean to lower the impact for the accidents."
   ]
  },
  {
   "cell_type": "code",
   "execution_count": null,
   "metadata": {},
   "outputs": [],
   "source": []
  }
 ],
 "metadata": {
  "kernelspec": {
   "display_name": "Python 3",
   "language": "python",
   "name": "python3"
  },
  "language_info": {
   "codemirror_mode": {
    "name": "ipython",
    "version": 3
   },
   "file_extension": ".py",
   "mimetype": "text/x-python",
   "name": "python",
   "nbconvert_exporter": "python",
   "pygments_lexer": "ipython3",
   "version": "3.5.4"
  }
 },
 "nbformat": 4,
 "nbformat_minor": 2
}
